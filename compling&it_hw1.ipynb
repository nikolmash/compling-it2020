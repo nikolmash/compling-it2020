{
  "nbformat": 4,
  "nbformat_minor": 0,
  "metadata": {
    "colab": {
      "name": "compling&it hw1",
      "provenance": [],
      "collapsed_sections": [],
      "toc_visible": true
    },
    "kernelspec": {
      "name": "python3",
      "display_name": "Python 3"
    },
    "widgets": {
      "application/vnd.jupyter.widget-state+json": {
        "937050e4a020482ab5ffb62606104639": {
          "model_module": "@jupyter-widgets/controls",
          "model_name": "HBoxModel",
          "state": {
            "_view_name": "HBoxView",
            "_dom_classes": [],
            "_model_name": "HBoxModel",
            "_view_module": "@jupyter-widgets/controls",
            "_model_module_version": "1.5.0",
            "_view_count": null,
            "_view_module_version": "1.5.0",
            "box_style": "",
            "layout": "IPY_MODEL_a0af5780589348e290ac7b6bec7d033a",
            "_model_module": "@jupyter-widgets/controls",
            "children": [
              "IPY_MODEL_94e14a7e0ccc490aa1223f5c7f3c39ca",
              "IPY_MODEL_de741c2e1d0b4cd98b7951413cfa8338"
            ]
          }
        },
        "a0af5780589348e290ac7b6bec7d033a": {
          "model_module": "@jupyter-widgets/base",
          "model_name": "LayoutModel",
          "state": {
            "_view_name": "LayoutView",
            "grid_template_rows": null,
            "right": null,
            "justify_content": null,
            "_view_module": "@jupyter-widgets/base",
            "overflow": null,
            "_model_module_version": "1.2.0",
            "_view_count": null,
            "flex_flow": null,
            "width": null,
            "min_width": null,
            "border": null,
            "align_items": null,
            "bottom": null,
            "_model_module": "@jupyter-widgets/base",
            "top": null,
            "grid_column": null,
            "overflow_y": null,
            "overflow_x": null,
            "grid_auto_flow": null,
            "grid_area": null,
            "grid_template_columns": null,
            "flex": null,
            "_model_name": "LayoutModel",
            "justify_items": null,
            "grid_row": null,
            "max_height": null,
            "align_content": null,
            "visibility": null,
            "align_self": null,
            "height": null,
            "min_height": null,
            "padding": null,
            "grid_auto_rows": null,
            "grid_gap": null,
            "max_width": null,
            "order": null,
            "_view_module_version": "1.2.0",
            "grid_template_areas": null,
            "object_position": null,
            "object_fit": null,
            "grid_auto_columns": null,
            "margin": null,
            "display": null,
            "left": null
          }
        },
        "94e14a7e0ccc490aa1223f5c7f3c39ca": {
          "model_module": "@jupyter-widgets/controls",
          "model_name": "FloatProgressModel",
          "state": {
            "_view_name": "ProgressView",
            "style": "IPY_MODEL_e1d1ce53dc324c26905326907ca62724",
            "_dom_classes": [],
            "description": "100%",
            "_model_name": "FloatProgressModel",
            "bar_style": "success",
            "max": 4,
            "_view_module": "@jupyter-widgets/controls",
            "_model_module_version": "1.5.0",
            "value": 4,
            "_view_count": null,
            "_view_module_version": "1.5.0",
            "orientation": "horizontal",
            "min": 0,
            "description_tooltip": null,
            "_model_module": "@jupyter-widgets/controls",
            "layout": "IPY_MODEL_2fa3527707dd4564ada65e8a926d5909"
          }
        },
        "de741c2e1d0b4cd98b7951413cfa8338": {
          "model_module": "@jupyter-widgets/controls",
          "model_name": "HTMLModel",
          "state": {
            "_view_name": "HTMLView",
            "style": "IPY_MODEL_83347de7378a4d3ba407759987021065",
            "_dom_classes": [],
            "description": "",
            "_model_name": "HTMLModel",
            "placeholder": "​",
            "_view_module": "@jupyter-widgets/controls",
            "_model_module_version": "1.5.0",
            "value": " 4/4 [00:00&lt;00:00, 69.20it/s]",
            "_view_count": null,
            "_view_module_version": "1.5.0",
            "description_tooltip": null,
            "_model_module": "@jupyter-widgets/controls",
            "layout": "IPY_MODEL_167996c41d9646e893e58cdd90d1dedb"
          }
        },
        "e1d1ce53dc324c26905326907ca62724": {
          "model_module": "@jupyter-widgets/controls",
          "model_name": "ProgressStyleModel",
          "state": {
            "_view_name": "StyleView",
            "_model_name": "ProgressStyleModel",
            "description_width": "initial",
            "_view_module": "@jupyter-widgets/base",
            "_model_module_version": "1.5.0",
            "_view_count": null,
            "_view_module_version": "1.2.0",
            "bar_color": null,
            "_model_module": "@jupyter-widgets/controls"
          }
        },
        "2fa3527707dd4564ada65e8a926d5909": {
          "model_module": "@jupyter-widgets/base",
          "model_name": "LayoutModel",
          "state": {
            "_view_name": "LayoutView",
            "grid_template_rows": null,
            "right": null,
            "justify_content": null,
            "_view_module": "@jupyter-widgets/base",
            "overflow": null,
            "_model_module_version": "1.2.0",
            "_view_count": null,
            "flex_flow": null,
            "width": null,
            "min_width": null,
            "border": null,
            "align_items": null,
            "bottom": null,
            "_model_module": "@jupyter-widgets/base",
            "top": null,
            "grid_column": null,
            "overflow_y": null,
            "overflow_x": null,
            "grid_auto_flow": null,
            "grid_area": null,
            "grid_template_columns": null,
            "flex": null,
            "_model_name": "LayoutModel",
            "justify_items": null,
            "grid_row": null,
            "max_height": null,
            "align_content": null,
            "visibility": null,
            "align_self": null,
            "height": null,
            "min_height": null,
            "padding": null,
            "grid_auto_rows": null,
            "grid_gap": null,
            "max_width": null,
            "order": null,
            "_view_module_version": "1.2.0",
            "grid_template_areas": null,
            "object_position": null,
            "object_fit": null,
            "grid_auto_columns": null,
            "margin": null,
            "display": null,
            "left": null
          }
        },
        "83347de7378a4d3ba407759987021065": {
          "model_module": "@jupyter-widgets/controls",
          "model_name": "DescriptionStyleModel",
          "state": {
            "_view_name": "StyleView",
            "_model_name": "DescriptionStyleModel",
            "description_width": "",
            "_view_module": "@jupyter-widgets/base",
            "_model_module_version": "1.5.0",
            "_view_count": null,
            "_view_module_version": "1.2.0",
            "_model_module": "@jupyter-widgets/controls"
          }
        },
        "167996c41d9646e893e58cdd90d1dedb": {
          "model_module": "@jupyter-widgets/base",
          "model_name": "LayoutModel",
          "state": {
            "_view_name": "LayoutView",
            "grid_template_rows": null,
            "right": null,
            "justify_content": null,
            "_view_module": "@jupyter-widgets/base",
            "overflow": null,
            "_model_module_version": "1.2.0",
            "_view_count": null,
            "flex_flow": null,
            "width": null,
            "min_width": null,
            "border": null,
            "align_items": null,
            "bottom": null,
            "_model_module": "@jupyter-widgets/base",
            "top": null,
            "grid_column": null,
            "overflow_y": null,
            "overflow_x": null,
            "grid_auto_flow": null,
            "grid_area": null,
            "grid_template_columns": null,
            "flex": null,
            "_model_name": "LayoutModel",
            "justify_items": null,
            "grid_row": null,
            "max_height": null,
            "align_content": null,
            "visibility": null,
            "align_self": null,
            "height": null,
            "min_height": null,
            "padding": null,
            "grid_auto_rows": null,
            "grid_gap": null,
            "max_width": null,
            "order": null,
            "_view_module_version": "1.2.0",
            "grid_template_areas": null,
            "object_position": null,
            "object_fit": null,
            "grid_auto_columns": null,
            "margin": null,
            "display": null,
            "left": null
          }
        },
        "2af13fdf749e41668558c7cbd835c5b0": {
          "model_module": "@jupyter-widgets/controls",
          "model_name": "HBoxModel",
          "state": {
            "_view_name": "HBoxView",
            "_dom_classes": [],
            "_model_name": "HBoxModel",
            "_view_module": "@jupyter-widgets/controls",
            "_model_module_version": "1.5.0",
            "_view_count": null,
            "_view_module_version": "1.5.0",
            "box_style": "",
            "layout": "IPY_MODEL_7b241b072bb84ad882f2c94a1c6cd0ba",
            "_model_module": "@jupyter-widgets/controls",
            "children": [
              "IPY_MODEL_d7fc5708770b4fc981bbf06465f59283",
              "IPY_MODEL_21450fa782be4400b2a87cf47659d0c4"
            ]
          }
        },
        "7b241b072bb84ad882f2c94a1c6cd0ba": {
          "model_module": "@jupyter-widgets/base",
          "model_name": "LayoutModel",
          "state": {
            "_view_name": "LayoutView",
            "grid_template_rows": null,
            "right": null,
            "justify_content": null,
            "_view_module": "@jupyter-widgets/base",
            "overflow": null,
            "_model_module_version": "1.2.0",
            "_view_count": null,
            "flex_flow": null,
            "width": null,
            "min_width": null,
            "border": null,
            "align_items": null,
            "bottom": null,
            "_model_module": "@jupyter-widgets/base",
            "top": null,
            "grid_column": null,
            "overflow_y": null,
            "overflow_x": null,
            "grid_auto_flow": null,
            "grid_area": null,
            "grid_template_columns": null,
            "flex": null,
            "_model_name": "LayoutModel",
            "justify_items": null,
            "grid_row": null,
            "max_height": null,
            "align_content": null,
            "visibility": null,
            "align_self": null,
            "height": null,
            "min_height": null,
            "padding": null,
            "grid_auto_rows": null,
            "grid_gap": null,
            "max_width": null,
            "order": null,
            "_view_module_version": "1.2.0",
            "grid_template_areas": null,
            "object_position": null,
            "object_fit": null,
            "grid_auto_columns": null,
            "margin": null,
            "display": null,
            "left": null
          }
        },
        "d7fc5708770b4fc981bbf06465f59283": {
          "model_module": "@jupyter-widgets/controls",
          "model_name": "FloatProgressModel",
          "state": {
            "_view_name": "ProgressView",
            "style": "IPY_MODEL_ad6cba108c484883bc245e59e8f22a08",
            "_dom_classes": [],
            "description": "100%",
            "_model_name": "FloatProgressModel",
            "bar_style": "success",
            "max": 64039,
            "_view_module": "@jupyter-widgets/controls",
            "_model_module_version": "1.5.0",
            "value": 64039,
            "_view_count": null,
            "_view_module_version": "1.5.0",
            "orientation": "horizontal",
            "min": 0,
            "description_tooltip": null,
            "_model_module": "@jupyter-widgets/controls",
            "layout": "IPY_MODEL_a08b76ef65104721ab53ac67de39bd0b"
          }
        },
        "21450fa782be4400b2a87cf47659d0c4": {
          "model_module": "@jupyter-widgets/controls",
          "model_name": "HTMLModel",
          "state": {
            "_view_name": "HTMLView",
            "style": "IPY_MODEL_063e0a3f791d4380b0b7181683e25cf8",
            "_dom_classes": [],
            "description": "",
            "_model_name": "HTMLModel",
            "placeholder": "​",
            "_view_module": "@jupyter-widgets/controls",
            "_model_module_version": "1.5.0",
            "value": " 64039/64039 [05:53&lt;00:00, 181.05it/s]",
            "_view_count": null,
            "_view_module_version": "1.5.0",
            "description_tooltip": null,
            "_model_module": "@jupyter-widgets/controls",
            "layout": "IPY_MODEL_c91c392e73da43399108e533db3cfbaf"
          }
        },
        "ad6cba108c484883bc245e59e8f22a08": {
          "model_module": "@jupyter-widgets/controls",
          "model_name": "ProgressStyleModel",
          "state": {
            "_view_name": "StyleView",
            "_model_name": "ProgressStyleModel",
            "description_width": "initial",
            "_view_module": "@jupyter-widgets/base",
            "_model_module_version": "1.5.0",
            "_view_count": null,
            "_view_module_version": "1.2.0",
            "bar_color": null,
            "_model_module": "@jupyter-widgets/controls"
          }
        },
        "a08b76ef65104721ab53ac67de39bd0b": {
          "model_module": "@jupyter-widgets/base",
          "model_name": "LayoutModel",
          "state": {
            "_view_name": "LayoutView",
            "grid_template_rows": null,
            "right": null,
            "justify_content": null,
            "_view_module": "@jupyter-widgets/base",
            "overflow": null,
            "_model_module_version": "1.2.0",
            "_view_count": null,
            "flex_flow": null,
            "width": null,
            "min_width": null,
            "border": null,
            "align_items": null,
            "bottom": null,
            "_model_module": "@jupyter-widgets/base",
            "top": null,
            "grid_column": null,
            "overflow_y": null,
            "overflow_x": null,
            "grid_auto_flow": null,
            "grid_area": null,
            "grid_template_columns": null,
            "flex": null,
            "_model_name": "LayoutModel",
            "justify_items": null,
            "grid_row": null,
            "max_height": null,
            "align_content": null,
            "visibility": null,
            "align_self": null,
            "height": null,
            "min_height": null,
            "padding": null,
            "grid_auto_rows": null,
            "grid_gap": null,
            "max_width": null,
            "order": null,
            "_view_module_version": "1.2.0",
            "grid_template_areas": null,
            "object_position": null,
            "object_fit": null,
            "grid_auto_columns": null,
            "margin": null,
            "display": null,
            "left": null
          }
        },
        "063e0a3f791d4380b0b7181683e25cf8": {
          "model_module": "@jupyter-widgets/controls",
          "model_name": "DescriptionStyleModel",
          "state": {
            "_view_name": "StyleView",
            "_model_name": "DescriptionStyleModel",
            "description_width": "",
            "_view_module": "@jupyter-widgets/base",
            "_model_module_version": "1.5.0",
            "_view_count": null,
            "_view_module_version": "1.2.0",
            "_model_module": "@jupyter-widgets/controls"
          }
        },
        "c91c392e73da43399108e533db3cfbaf": {
          "model_module": "@jupyter-widgets/base",
          "model_name": "LayoutModel",
          "state": {
            "_view_name": "LayoutView",
            "grid_template_rows": null,
            "right": null,
            "justify_content": null,
            "_view_module": "@jupyter-widgets/base",
            "overflow": null,
            "_model_module_version": "1.2.0",
            "_view_count": null,
            "flex_flow": null,
            "width": null,
            "min_width": null,
            "border": null,
            "align_items": null,
            "bottom": null,
            "_model_module": "@jupyter-widgets/base",
            "top": null,
            "grid_column": null,
            "overflow_y": null,
            "overflow_x": null,
            "grid_auto_flow": null,
            "grid_area": null,
            "grid_template_columns": null,
            "flex": null,
            "_model_name": "LayoutModel",
            "justify_items": null,
            "grid_row": null,
            "max_height": null,
            "align_content": null,
            "visibility": null,
            "align_self": null,
            "height": null,
            "min_height": null,
            "padding": null,
            "grid_auto_rows": null,
            "grid_gap": null,
            "max_width": null,
            "order": null,
            "_view_module_version": "1.2.0",
            "grid_template_areas": null,
            "object_position": null,
            "object_fit": null,
            "grid_auto_columns": null,
            "margin": null,
            "display": null,
            "left": null
          }
        },
        "219d7015bb854335829f7c76628f2074": {
          "model_module": "@jupyter-widgets/controls",
          "model_name": "HBoxModel",
          "state": {
            "_view_name": "HBoxView",
            "_dom_classes": [],
            "_model_name": "HBoxModel",
            "_view_module": "@jupyter-widgets/controls",
            "_model_module_version": "1.5.0",
            "_view_count": null,
            "_view_module_version": "1.5.0",
            "box_style": "",
            "layout": "IPY_MODEL_a4e5becae2e34ad0843e6596a87d5555",
            "_model_module": "@jupyter-widgets/controls",
            "children": [
              "IPY_MODEL_25510ddac96249b2913c6ab89fdf930f",
              "IPY_MODEL_99afdd667794455bbfb0575e20f7e872"
            ]
          }
        },
        "a4e5becae2e34ad0843e6596a87d5555": {
          "model_module": "@jupyter-widgets/base",
          "model_name": "LayoutModel",
          "state": {
            "_view_name": "LayoutView",
            "grid_template_rows": null,
            "right": null,
            "justify_content": null,
            "_view_module": "@jupyter-widgets/base",
            "overflow": null,
            "_model_module_version": "1.2.0",
            "_view_count": null,
            "flex_flow": null,
            "width": null,
            "min_width": null,
            "border": null,
            "align_items": null,
            "bottom": null,
            "_model_module": "@jupyter-widgets/base",
            "top": null,
            "grid_column": null,
            "overflow_y": null,
            "overflow_x": null,
            "grid_auto_flow": null,
            "grid_area": null,
            "grid_template_columns": null,
            "flex": null,
            "_model_name": "LayoutModel",
            "justify_items": null,
            "grid_row": null,
            "max_height": null,
            "align_content": null,
            "visibility": null,
            "align_self": null,
            "height": null,
            "min_height": null,
            "padding": null,
            "grid_auto_rows": null,
            "grid_gap": null,
            "max_width": null,
            "order": null,
            "_view_module_version": "1.2.0",
            "grid_template_areas": null,
            "object_position": null,
            "object_fit": null,
            "grid_auto_columns": null,
            "margin": null,
            "display": null,
            "left": null
          }
        },
        "25510ddac96249b2913c6ab89fdf930f": {
          "model_module": "@jupyter-widgets/controls",
          "model_name": "FloatProgressModel",
          "state": {
            "_view_name": "ProgressView",
            "style": "IPY_MODEL_79e8813a39d74b90a34ba57745e2b4b1",
            "_dom_classes": [],
            "description": "100%",
            "_model_name": "FloatProgressModel",
            "bar_style": "success",
            "max": 32018,
            "_view_module": "@jupyter-widgets/controls",
            "_model_module_version": "1.5.0",
            "value": 32018,
            "_view_count": null,
            "_view_module_version": "1.5.0",
            "orientation": "horizontal",
            "min": 0,
            "description_tooltip": null,
            "_model_module": "@jupyter-widgets/controls",
            "layout": "IPY_MODEL_177beb40d2864e73bb045d3b5b86322a"
          }
        },
        "99afdd667794455bbfb0575e20f7e872": {
          "model_module": "@jupyter-widgets/controls",
          "model_name": "HTMLModel",
          "state": {
            "_view_name": "HTMLView",
            "style": "IPY_MODEL_fc506afe42e5455092a127f1d9862727",
            "_dom_classes": [],
            "description": "",
            "_model_name": "HTMLModel",
            "placeholder": "​",
            "_view_module": "@jupyter-widgets/controls",
            "_model_module_version": "1.5.0",
            "value": " 32018/32018 [02:03&lt;00:00, 259.47it/s]",
            "_view_count": null,
            "_view_module_version": "1.5.0",
            "description_tooltip": null,
            "_model_module": "@jupyter-widgets/controls",
            "layout": "IPY_MODEL_55b1e991610b479ca81499f110e3fd2f"
          }
        },
        "79e8813a39d74b90a34ba57745e2b4b1": {
          "model_module": "@jupyter-widgets/controls",
          "model_name": "ProgressStyleModel",
          "state": {
            "_view_name": "StyleView",
            "_model_name": "ProgressStyleModel",
            "description_width": "initial",
            "_view_module": "@jupyter-widgets/base",
            "_model_module_version": "1.5.0",
            "_view_count": null,
            "_view_module_version": "1.2.0",
            "bar_color": null,
            "_model_module": "@jupyter-widgets/controls"
          }
        },
        "177beb40d2864e73bb045d3b5b86322a": {
          "model_module": "@jupyter-widgets/base",
          "model_name": "LayoutModel",
          "state": {
            "_view_name": "LayoutView",
            "grid_template_rows": null,
            "right": null,
            "justify_content": null,
            "_view_module": "@jupyter-widgets/base",
            "overflow": null,
            "_model_module_version": "1.2.0",
            "_view_count": null,
            "flex_flow": null,
            "width": null,
            "min_width": null,
            "border": null,
            "align_items": null,
            "bottom": null,
            "_model_module": "@jupyter-widgets/base",
            "top": null,
            "grid_column": null,
            "overflow_y": null,
            "overflow_x": null,
            "grid_auto_flow": null,
            "grid_area": null,
            "grid_template_columns": null,
            "flex": null,
            "_model_name": "LayoutModel",
            "justify_items": null,
            "grid_row": null,
            "max_height": null,
            "align_content": null,
            "visibility": null,
            "align_self": null,
            "height": null,
            "min_height": null,
            "padding": null,
            "grid_auto_rows": null,
            "grid_gap": null,
            "max_width": null,
            "order": null,
            "_view_module_version": "1.2.0",
            "grid_template_areas": null,
            "object_position": null,
            "object_fit": null,
            "grid_auto_columns": null,
            "margin": null,
            "display": null,
            "left": null
          }
        },
        "fc506afe42e5455092a127f1d9862727": {
          "model_module": "@jupyter-widgets/controls",
          "model_name": "DescriptionStyleModel",
          "state": {
            "_view_name": "StyleView",
            "_model_name": "DescriptionStyleModel",
            "description_width": "",
            "_view_module": "@jupyter-widgets/base",
            "_model_module_version": "1.5.0",
            "_view_count": null,
            "_view_module_version": "1.2.0",
            "_model_module": "@jupyter-widgets/controls"
          }
        },
        "55b1e991610b479ca81499f110e3fd2f": {
          "model_module": "@jupyter-widgets/base",
          "model_name": "LayoutModel",
          "state": {
            "_view_name": "LayoutView",
            "grid_template_rows": null,
            "right": null,
            "justify_content": null,
            "_view_module": "@jupyter-widgets/base",
            "overflow": null,
            "_model_module_version": "1.2.0",
            "_view_count": null,
            "flex_flow": null,
            "width": null,
            "min_width": null,
            "border": null,
            "align_items": null,
            "bottom": null,
            "_model_module": "@jupyter-widgets/base",
            "top": null,
            "grid_column": null,
            "overflow_y": null,
            "overflow_x": null,
            "grid_auto_flow": null,
            "grid_area": null,
            "grid_template_columns": null,
            "flex": null,
            "_model_name": "LayoutModel",
            "justify_items": null,
            "grid_row": null,
            "max_height": null,
            "align_content": null,
            "visibility": null,
            "align_self": null,
            "height": null,
            "min_height": null,
            "padding": null,
            "grid_auto_rows": null,
            "grid_gap": null,
            "max_width": null,
            "order": null,
            "_view_module_version": "1.2.0",
            "grid_template_areas": null,
            "object_position": null,
            "object_fit": null,
            "grid_auto_columns": null,
            "margin": null,
            "display": null,
            "left": null
          }
        },
        "f9be59e9d03949779e7e2ec0f2b7516f": {
          "model_module": "@jupyter-widgets/controls",
          "model_name": "HBoxModel",
          "state": {
            "_view_name": "HBoxView",
            "_dom_classes": [],
            "_model_name": "HBoxModel",
            "_view_module": "@jupyter-widgets/controls",
            "_model_module_version": "1.5.0",
            "_view_count": null,
            "_view_module_version": "1.5.0",
            "box_style": "",
            "layout": "IPY_MODEL_8c69eee4b0e8456eb80890ec69f993de",
            "_model_module": "@jupyter-widgets/controls",
            "children": [
              "IPY_MODEL_0fd397ff35da40d0b31bf48057daf62c",
              "IPY_MODEL_ab2d7e9682ce45aaa33a667fd5f7572a"
            ]
          }
        },
        "8c69eee4b0e8456eb80890ec69f993de": {
          "model_module": "@jupyter-widgets/base",
          "model_name": "LayoutModel",
          "state": {
            "_view_name": "LayoutView",
            "grid_template_rows": null,
            "right": null,
            "justify_content": null,
            "_view_module": "@jupyter-widgets/base",
            "overflow": null,
            "_model_module_version": "1.2.0",
            "_view_count": null,
            "flex_flow": null,
            "width": null,
            "min_width": null,
            "border": null,
            "align_items": null,
            "bottom": null,
            "_model_module": "@jupyter-widgets/base",
            "top": null,
            "grid_column": null,
            "overflow_y": null,
            "overflow_x": null,
            "grid_auto_flow": null,
            "grid_area": null,
            "grid_template_columns": null,
            "flex": null,
            "_model_name": "LayoutModel",
            "justify_items": null,
            "grid_row": null,
            "max_height": null,
            "align_content": null,
            "visibility": null,
            "align_self": null,
            "height": null,
            "min_height": null,
            "padding": null,
            "grid_auto_rows": null,
            "grid_gap": null,
            "max_width": null,
            "order": null,
            "_view_module_version": "1.2.0",
            "grid_template_areas": null,
            "object_position": null,
            "object_fit": null,
            "grid_auto_columns": null,
            "margin": null,
            "display": null,
            "left": null
          }
        },
        "0fd397ff35da40d0b31bf48057daf62c": {
          "model_module": "@jupyter-widgets/controls",
          "model_name": "FloatProgressModel",
          "state": {
            "_view_name": "ProgressView",
            "style": "IPY_MODEL_a98b34f9505b4892a70c85d2bbed8337",
            "_dom_classes": [],
            "description": "100%",
            "_model_name": "FloatProgressModel",
            "bar_style": "success",
            "max": 32021,
            "_view_module": "@jupyter-widgets/controls",
            "_model_module_version": "1.5.0",
            "value": 32021,
            "_view_count": null,
            "_view_module_version": "1.5.0",
            "orientation": "horizontal",
            "min": 0,
            "description_tooltip": null,
            "_model_module": "@jupyter-widgets/controls",
            "layout": "IPY_MODEL_ea1bf7a5768344ff9a1bee2a236cfaec"
          }
        },
        "ab2d7e9682ce45aaa33a667fd5f7572a": {
          "model_module": "@jupyter-widgets/controls",
          "model_name": "HTMLModel",
          "state": {
            "_view_name": "HTMLView",
            "style": "IPY_MODEL_0650e1228e5e486cb049ff87d0abef7c",
            "_dom_classes": [],
            "description": "",
            "_model_name": "HTMLModel",
            "placeholder": "​",
            "_view_module": "@jupyter-widgets/controls",
            "_model_module_version": "1.5.0",
            "value": " 32021/32021 [53:05&lt;00:00, 10.05it/s]",
            "_view_count": null,
            "_view_module_version": "1.5.0",
            "description_tooltip": null,
            "_model_module": "@jupyter-widgets/controls",
            "layout": "IPY_MODEL_d92b5dba2b2d49a1956ee53f36bedd43"
          }
        },
        "a98b34f9505b4892a70c85d2bbed8337": {
          "model_module": "@jupyter-widgets/controls",
          "model_name": "ProgressStyleModel",
          "state": {
            "_view_name": "StyleView",
            "_model_name": "ProgressStyleModel",
            "description_width": "initial",
            "_view_module": "@jupyter-widgets/base",
            "_model_module_version": "1.5.0",
            "_view_count": null,
            "_view_module_version": "1.2.0",
            "bar_color": null,
            "_model_module": "@jupyter-widgets/controls"
          }
        },
        "ea1bf7a5768344ff9a1bee2a236cfaec": {
          "model_module": "@jupyter-widgets/base",
          "model_name": "LayoutModel",
          "state": {
            "_view_name": "LayoutView",
            "grid_template_rows": null,
            "right": null,
            "justify_content": null,
            "_view_module": "@jupyter-widgets/base",
            "overflow": null,
            "_model_module_version": "1.2.0",
            "_view_count": null,
            "flex_flow": null,
            "width": null,
            "min_width": null,
            "border": null,
            "align_items": null,
            "bottom": null,
            "_model_module": "@jupyter-widgets/base",
            "top": null,
            "grid_column": null,
            "overflow_y": null,
            "overflow_x": null,
            "grid_auto_flow": null,
            "grid_area": null,
            "grid_template_columns": null,
            "flex": null,
            "_model_name": "LayoutModel",
            "justify_items": null,
            "grid_row": null,
            "max_height": null,
            "align_content": null,
            "visibility": null,
            "align_self": null,
            "height": null,
            "min_height": null,
            "padding": null,
            "grid_auto_rows": null,
            "grid_gap": null,
            "max_width": null,
            "order": null,
            "_view_module_version": "1.2.0",
            "grid_template_areas": null,
            "object_position": null,
            "object_fit": null,
            "grid_auto_columns": null,
            "margin": null,
            "display": null,
            "left": null
          }
        },
        "0650e1228e5e486cb049ff87d0abef7c": {
          "model_module": "@jupyter-widgets/controls",
          "model_name": "DescriptionStyleModel",
          "state": {
            "_view_name": "StyleView",
            "_model_name": "DescriptionStyleModel",
            "description_width": "",
            "_view_module": "@jupyter-widgets/base",
            "_model_module_version": "1.5.0",
            "_view_count": null,
            "_view_module_version": "1.2.0",
            "_model_module": "@jupyter-widgets/controls"
          }
        },
        "d92b5dba2b2d49a1956ee53f36bedd43": {
          "model_module": "@jupyter-widgets/base",
          "model_name": "LayoutModel",
          "state": {
            "_view_name": "LayoutView",
            "grid_template_rows": null,
            "right": null,
            "justify_content": null,
            "_view_module": "@jupyter-widgets/base",
            "overflow": null,
            "_model_module_version": "1.2.0",
            "_view_count": null,
            "flex_flow": null,
            "width": null,
            "min_width": null,
            "border": null,
            "align_items": null,
            "bottom": null,
            "_model_module": "@jupyter-widgets/base",
            "top": null,
            "grid_column": null,
            "overflow_y": null,
            "overflow_x": null,
            "grid_auto_flow": null,
            "grid_area": null,
            "grid_template_columns": null,
            "flex": null,
            "_model_name": "LayoutModel",
            "justify_items": null,
            "grid_row": null,
            "max_height": null,
            "align_content": null,
            "visibility": null,
            "align_self": null,
            "height": null,
            "min_height": null,
            "padding": null,
            "grid_auto_rows": null,
            "grid_gap": null,
            "max_width": null,
            "order": null,
            "_view_module_version": "1.2.0",
            "grid_template_areas": null,
            "object_position": null,
            "object_fit": null,
            "grid_auto_columns": null,
            "margin": null,
            "display": null,
            "left": null
          }
        }
      }
    }
  },
  "cells": [
    {
      "cell_type": "markdown",
      "metadata": {
        "id": "nzfD_Wk1ZN6L",
        "colab_type": "text"
      },
      "source": [
        "# Домашнее задание №1\n",
        "\n",
        "### **Dataset of depressive posts in Russian language collected from social media** [(paper)](https://www.sciencedirect.com/science/article/pii/S2352340920300895)\n",
        "\n",
        "Скачать датасет в формате .tsv можно [здесь](https://yadi.sk/d/G5rq-R3AK8SOuw).\n",
        "\n",
        "\n",
        "В качестве задания предлагается:\n",
        "1. Использовать ```pandas``` и ряд инструментов для автоматической обработки текстов на русском языке, чтобы ответить на вопросы.\n",
        "2. Написать функции для извлечения текстовых признаков.\n",
        "\n",
        "Не рекомендуется использовать ```nltk``` для сегментации/токенизации текстов, поскольку существуют инструменты, которые выполняют свою задачу для русского значительно лучше – их мы обсуждали с вами на занятии.\n",
        "\n",
        "\n",
        "**Дедлайн**: 23 сентября 23:59"
      ]
    },
    {
      "cell_type": "code",
      "metadata": {
        "id": "ZXaNthFGj7O6",
        "colab_type": "code",
        "colab": {
          "base_uri": "https://localhost:8080/",
          "height": 384
        },
        "outputId": "e7759472-2fbf-4e4d-aff7-31342e7c3dd4"
      },
      "source": [
        "!wget -c https://www.dropbox.com/s/soyfu6d6y456qk2/depression_data.tsv"
      ],
      "execution_count": null,
      "outputs": [
        {
          "output_type": "stream",
          "text": [
            "--2020-09-23 18:17:16--  https://www.dropbox.com/s/soyfu6d6y456qk2/depression_data.tsv\n",
            "Resolving www.dropbox.com (www.dropbox.com)... 162.125.5.1, 2620:100:601d:1::a27d:501\n",
            "Connecting to www.dropbox.com (www.dropbox.com)|162.125.5.1|:443... connected.\n",
            "HTTP request sent, awaiting response... 301 Moved Permanently\n",
            "Location: /s/raw/soyfu6d6y456qk2/depression_data.tsv [following]\n",
            "--2020-09-23 18:17:17--  https://www.dropbox.com/s/raw/soyfu6d6y456qk2/depression_data.tsv\n",
            "Reusing existing connection to www.dropbox.com:443.\n",
            "HTTP request sent, awaiting response... 302 Found\n",
            "Location: https://uce472377f282472ad58ad4ee0d7.dl.dropboxusercontent.com/cd/0/inline/A__2ydQunu45Luc-0z--HISSXpKhFRkT-wchXhiXrVyT0DuxOsbWspH5EjTJ21_Yc98R7V4f4mkK4cHYBb6C-uLI5ktL8oFj8Arif2wDSfkrBIVAErRUSiQ03mti4MAso5I/file# [following]\n",
            "--2020-09-23 18:17:17--  https://uce472377f282472ad58ad4ee0d7.dl.dropboxusercontent.com/cd/0/inline/A__2ydQunu45Luc-0z--HISSXpKhFRkT-wchXhiXrVyT0DuxOsbWspH5EjTJ21_Yc98R7V4f4mkK4cHYBb6C-uLI5ktL8oFj8Arif2wDSfkrBIVAErRUSiQ03mti4MAso5I/file\n",
            "Resolving uce472377f282472ad58ad4ee0d7.dl.dropboxusercontent.com (uce472377f282472ad58ad4ee0d7.dl.dropboxusercontent.com)... 162.125.5.15, 2620:100:601d:15::a27d:50f\n",
            "Connecting to uce472377f282472ad58ad4ee0d7.dl.dropboxusercontent.com (uce472377f282472ad58ad4ee0d7.dl.dropboxusercontent.com)|162.125.5.15|:443... connected.\n",
            "HTTP request sent, awaiting response... 200 OK\n",
            "Length: 123753323 (118M) [text/plain]\n",
            "Saving to: ‘depression_data.tsv’\n",
            "\n",
            "depression_data.tsv 100%[===================>] 118.02M  49.4MB/s    in 2.4s    \n",
            "\n",
            "2020-09-23 18:17:20 (49.4 MB/s) - ‘depression_data.tsv’ saved [123753323/123753323]\n",
            "\n"
          ],
          "name": "stdout"
        }
      ]
    },
    {
      "cell_type": "code",
      "metadata": {
        "id": "9tsSaFBdgu1B",
        "colab_type": "code",
        "colab": {
          "base_uri": "https://localhost:8080/",
          "height": 202
        },
        "outputId": "44afd894-1d15-4b80-a48b-b7134ae0a946"
      },
      "source": [
        "import pandas as pd\n",
        "\n",
        "df = pd.read_csv(\"depression_data.tsv\", sep=\"\\t\")\n",
        "df.head()"
      ],
      "execution_count": 1,
      "outputs": [
        {
          "output_type": "execute_result",
          "data": {
            "text/html": [
              "<div>\n",
              "<style scoped>\n",
              "    .dataframe tbody tr th:only-of-type {\n",
              "        vertical-align: middle;\n",
              "    }\n",
              "\n",
              "    .dataframe tbody tr th {\n",
              "        vertical-align: top;\n",
              "    }\n",
              "\n",
              "    .dataframe thead th {\n",
              "        text-align: right;\n",
              "    }\n",
              "</style>\n",
              "<table border=\"1\" class=\"dataframe\">\n",
              "  <thead>\n",
              "    <tr style=\"text-align: right;\">\n",
              "      <th></th>\n",
              "      <th>text</th>\n",
              "      <th>label</th>\n",
              "      <th>age</th>\n",
              "    </tr>\n",
              "  </thead>\n",
              "  <tbody>\n",
              "    <tr>\n",
              "      <th>0</th>\n",
              "      <td>Когда-то я был добрым романтиком, который стре...</td>\n",
              "      <td>1</td>\n",
              "      <td>32.0</td>\n",
              "    </tr>\n",
              "    <tr>\n",
              "      <th>1</th>\n",
              "      <td>Здраствуйте! Я каждый день просыпаюсь с мыслью...</td>\n",
              "      <td>1</td>\n",
              "      <td>28.0</td>\n",
              "    </tr>\n",
              "    <tr>\n",
              "      <th>2</th>\n",
              "      <td>У меня проблемы с девушкой. Каждую ссору я не ...</td>\n",
              "      <td>1</td>\n",
              "      <td>16.0</td>\n",
              "    </tr>\n",
              "    <tr>\n",
              "      <th>3</th>\n",
              "      <td>Вся моя жизнь это один сплошной ад, в котором ...</td>\n",
              "      <td>1</td>\n",
              "      <td>32.0</td>\n",
              "    </tr>\n",
              "    <tr>\n",
              "      <th>4</th>\n",
              "      <td>Я хочу уснуть и не проснуться.каждый день одно...</td>\n",
              "      <td>1</td>\n",
              "      <td>14.0</td>\n",
              "    </tr>\n",
              "  </tbody>\n",
              "</table>\n",
              "</div>"
            ],
            "text/plain": [
              "                                                text  label   age\n",
              "0  Когда-то я был добрым романтиком, который стре...      1  32.0\n",
              "1  Здраствуйте! Я каждый день просыпаюсь с мыслью...      1  28.0\n",
              "2  У меня проблемы с девушкой. Каждую ссору я не ...      1  16.0\n",
              "3  Вся моя жизнь это один сплошной ад, в котором ...      1  32.0\n",
              "4  Я хочу уснуть и не проснуться.каждый день одно...      1  14.0"
            ]
          },
          "metadata": {
            "tags": []
          },
          "execution_count": 1
        }
      ]
    },
    {
      "cell_type": "markdown",
      "metadata": {
        "id": "jgwa7XyGfuCI",
        "colab_type": "text"
      },
      "source": [
        "### Часть 1: Простая статистика (2 балла)"
      ]
    },
    {
      "cell_type": "markdown",
      "metadata": {
        "id": "YP1iOWbjh2zw",
        "colab_type": "text"
      },
      "source": [
        "Зачастую в данных, с которыми вы работаете, может быть много неприятных для обработки вещей. Например, мы видим, что в колонке ```age``` очень грязные значения."
      ]
    },
    {
      "cell_type": "code",
      "metadata": {
        "id": "4aeaSyzK_IjT",
        "colab_type": "code",
        "colab": {
          "base_uri": "https://localhost:8080/",
          "height": 225
        },
        "outputId": "57edb625-9110-444a-920d-314dcb1411d4"
      },
      "source": [
        "df[\"age\"].value_counts()"
      ],
      "execution_count": null,
      "outputs": [
        {
          "output_type": "execute_result",
          "data": {
            "text/plain": [
              "16.0      1823\n",
              "17.0      1811\n",
              "18.0      1661\n",
              "15.0      1582\n",
              "20.0      1543\n",
              "          ... \n",
              "116.0        1\n",
              "295.0        1\n",
              "2425.0       1\n",
              "92.0         1\n",
              "830.0        1\n",
              "Name: age, Length: 128, dtype: int64"
            ]
          },
          "metadata": {
            "tags": []
          },
          "execution_count": 2
        }
      ]
    },
    {
      "cell_type": "markdown",
      "metadata": {
        "id": "5SqrBy6iloMd",
        "colab_type": "text"
      },
      "source": [
        "1. Найдите среднее значение возраста в диапазоне от 14 до 50 лет включительно."
      ]
    },
    {
      "cell_type": "code",
      "metadata": {
        "id": "6AbzQhkakRfc",
        "colab_type": "code",
        "colab": {
          "base_uri": "https://localhost:8080/",
          "height": 34
        },
        "outputId": "9b8c0067-3602-49d9-c3d2-225da603ab90"
      },
      "source": [
        "df[(df['age']>13) & (df['age']<51)]['age'].mean()"
      ],
      "execution_count": null,
      "outputs": [
        {
          "output_type": "execute_result",
          "data": {
            "text/plain": [
              "22.704171601526518"
            ]
          },
          "metadata": {
            "tags": []
          },
          "execution_count": 3
        }
      ]
    },
    {
      "cell_type": "markdown",
      "metadata": {
        "id": "Pw5gpMkDk4R6",
        "colab_type": "text"
      },
      "source": [
        "2. Какую долю 16-летние авторы составляют в диапазоне от 16 до 26 лет включительно?"
      ]
    },
    {
      "cell_type": "code",
      "metadata": {
        "id": "qXejPDLZj3eX",
        "colab_type": "code",
        "colab": {
          "base_uri": "https://localhost:8080/",
          "height": 34
        },
        "outputId": "84f412bb-08b6-484f-a5ad-3b121bca18f4"
      },
      "source": [
        "df[df['age']==16].shape[0]/df[(df['age']>15) & (df['age']<27)].shape[0]"
      ],
      "execution_count": null,
      "outputs": [
        {
          "output_type": "execute_result",
          "data": {
            "text/plain": [
              "0.1259412780656304"
            ]
          },
          "metadata": {
            "tags": []
          },
          "execution_count": 4
        }
      ]
    },
    {
      "cell_type": "markdown",
      "metadata": {
        "id": "vGinA-Swjvlc",
        "colab_type": "text"
      },
      "source": [
        "3. Сколько в датасете текстов, авторам которых 28 или 30 лет?"
      ]
    },
    {
      "cell_type": "code",
      "metadata": {
        "id": "QNz0sLmjYLxr",
        "colab_type": "code",
        "colab": {
          "base_uri": "https://localhost:8080/",
          "height": 34
        },
        "outputId": "0d3deca4-86fe-4a99-8837-2df30f4b05bb"
      },
      "source": [
        "df[(df['age']==28) | (df['age']==30)].shape[0]"
      ],
      "execution_count": null,
      "outputs": [
        {
          "output_type": "execute_result",
          "data": {
            "text/plain": [
              "1185"
            ]
          },
          "metadata": {
            "tags": []
          },
          "execution_count": 5
        }
      ]
    },
    {
      "cell_type": "markdown",
      "metadata": {
        "id": "WIiciL_BnJzl",
        "colab_type": "text"
      },
      "source": [
        "4. С помощью одной встроенной в ```pandas``` функции отобразите всю статистику по колонке ```age``` в диапазоне от 18 до 30 лет включительно."
      ]
    },
    {
      "cell_type": "code",
      "metadata": {
        "id": "q2cC4Sxanka6",
        "colab_type": "code",
        "colab": {
          "base_uri": "https://localhost:8080/",
          "height": 173
        },
        "outputId": "a950462a-6e8e-4dff-8ec1-d68d8405797d"
      },
      "source": [
        "df[(df['age']>17) & (df['age']<31)]['age'].describe()"
      ],
      "execution_count": null,
      "outputs": [
        {
          "output_type": "execute_result",
          "data": {
            "text/plain": [
              "count    13205.000000\n",
              "mean        22.676638\n",
              "std          3.550254\n",
              "min         18.000000\n",
              "25%         20.000000\n",
              "50%         22.000000\n",
              "75%         25.000000\n",
              "max         30.000000\n",
              "Name: age, dtype: float64"
            ]
          },
          "metadata": {
            "tags": []
          },
          "execution_count": 6
        }
      ]
    },
    {
      "cell_type": "markdown",
      "metadata": {
        "id": "CT99FXGjoGs1",
        "colab_type": "text"
      },
      "source": [
        "5. Сколько в датасете положительных / отрицательных примеров?"
      ]
    },
    {
      "cell_type": "code",
      "metadata": {
        "id": "j-nelLWJoMpT",
        "colab_type": "code",
        "colab": {
          "base_uri": "https://localhost:8080/",
          "height": 69
        },
        "outputId": "933cd2e7-ce04-4433-fda5-38721f8d11de"
      },
      "source": [
        "df['label'].value_counts()"
      ],
      "execution_count": null,
      "outputs": [
        {
          "output_type": "execute_result",
          "data": {
            "text/plain": [
              "0    32021\n",
              "1    32018\n",
              "Name: label, dtype: int64"
            ]
          },
          "metadata": {
            "tags": []
          },
          "execution_count": 7
        }
      ]
    },
    {
      "cell_type": "markdown",
      "metadata": {
        "id": "QHldQF5FoAyB",
        "colab_type": "text"
      },
      "source": [
        "### Часть 2: Предобработка (3 балла)"
      ]
    },
    {
      "cell_type": "code",
      "metadata": {
        "id": "NauUc2FVRkEU",
        "colab_type": "code",
        "colab": {
          "base_uri": "https://localhost:8080/",
          "height": 436
        },
        "outputId": "dddbf87f-0250-46a0-a064-4aab6f588808"
      },
      "source": [
        "!pip install razdel\n",
        "!python -m pip install pymorphy2[fast]"
      ],
      "execution_count": null,
      "outputs": [
        {
          "output_type": "stream",
          "text": [
            "Collecting razdel\n",
            "  Downloading https://files.pythonhosted.org/packages/15/2c/664223a3924aa6e70479f7d37220b3a658765b9cfe760b4af7ffdc50d38f/razdel-0.5.0-py3-none-any.whl\n",
            "Installing collected packages: razdel\n",
            "Successfully installed razdel-0.5.0\n",
            "Collecting pymorphy2[fast]\n",
            "\u001b[?25l  Downloading https://files.pythonhosted.org/packages/46/35/f1b0d80874fd829fb1563c5d043cd9b6a29b89cce8dc15b7a1edce010b63/pymorphy2-0.9-py3-none-any.whl (55kB)\n",
            "\u001b[K     |████████████████████████████████| 61kB 1.8MB/s \n",
            "\u001b[?25hRequirement already satisfied: docopt>=0.6 in /usr/local/lib/python3.6/dist-packages (from pymorphy2[fast]) (0.6.2)\n",
            "Collecting dawg-python>=0.7.1\n",
            "  Downloading https://files.pythonhosted.org/packages/6a/84/ff1ce2071d4c650ec85745766c0047ccc3b5036f1d03559fd46bb38b5eeb/DAWG_Python-0.7.2-py2.py3-none-any.whl\n",
            "Collecting pymorphy2-dicts-ru<3.0,>=2.4\n",
            "\u001b[?25l  Downloading https://files.pythonhosted.org/packages/7c/9b/358faaff410f65a4ad159275e897b5956dcb20576c5b8e764b971c1634d7/pymorphy2_dicts_ru-2.4.404381.4453942-py2.py3-none-any.whl (8.0MB)\n",
            "\u001b[K     |████████████████████████████████| 8.0MB 4.7MB/s \n",
            "\u001b[?25hCollecting DAWG>=0.8; extra == \"fast\"\n",
            "\u001b[?25l  Downloading https://files.pythonhosted.org/packages/b8/ef/91b619a399685f7a0a95a03628006ba814d96293bbbbed234ee66fbdefd9/DAWG-0.8.0.tar.gz (371kB)\n",
            "\u001b[K     |████████████████████████████████| 378kB 49.7MB/s \n",
            "\u001b[?25hBuilding wheels for collected packages: DAWG\n",
            "  Building wheel for DAWG (setup.py) ... \u001b[?25l\u001b[?25hdone\n",
            "  Created wheel for DAWG: filename=DAWG-0.8.0-cp36-cp36m-linux_x86_64.whl size=846043 sha256=770322675e9d74f85404434fffe2379cc479f12b77873721ea71b561eaa29f41\n",
            "  Stored in directory: /root/.cache/pip/wheels/3d/1f/f0/a5b1f9d02e193c997d252c33d215f24dfd7a448bc0166b2a12\n",
            "Successfully built DAWG\n",
            "Installing collected packages: dawg-python, pymorphy2-dicts-ru, DAWG, pymorphy2\n",
            "Successfully installed DAWG-0.8.0 dawg-python-0.7.2 pymorphy2-0.9 pymorphy2-dicts-ru-2.4.404381.4453942\n"
          ],
          "name": "stdout"
        }
      ]
    },
    {
      "cell_type": "code",
      "metadata": {
        "id": "QlK7NwbkQ4zF",
        "colab_type": "code",
        "colab": {
          "base_uri": "https://localhost:8080/",
          "height": 52
        },
        "outputId": "3ef7ff45-30a6-458a-8053-754f9a80df8b"
      },
      "source": [
        "import nltk\n",
        "import pymorphy2\n",
        "from string import punctuation\n",
        "from nltk.corpus import stopwords\n",
        "from razdel import sentenize, tokenize\n",
        "\n",
        "nltk.download('stopwords')\n",
        "stopwords = stopwords.words('russian')\n",
        "punkt = punctuation + '«»—…“”*№–'\n",
        "morph = pymorphy2.MorphAnalyzer()"
      ],
      "execution_count": 2,
      "outputs": [
        {
          "output_type": "stream",
          "text": [
            "[nltk_data] Downloading package stopwords to /root/nltk_data...\n",
            "[nltk_data]   Package stopwords is already up-to-date!\n"
          ],
          "name": "stdout"
        }
      ]
    },
    {
      "cell_type": "markdown",
      "metadata": {
        "id": "Mc1d4G-q671X",
        "colab_type": "text"
      },
      "source": [
        "1. Посчитайте количество предложений в каждом тексте. Сохраните эти значения в отдельной колонке датафрейма."
      ]
    },
    {
      "cell_type": "code",
      "metadata": {
        "id": "HTni9dHd-NMz",
        "colab_type": "code",
        "colab": {
          "base_uri": "https://localhost:8080/",
          "height": 202
        },
        "outputId": "d4e34e1b-3497-4031-c89e-08e8807e1d14"
      },
      "source": [
        "df['sent_count'] = df['text'].apply(lambda x: len(list(sentenize(x))))\n",
        "df.head()"
      ],
      "execution_count": 3,
      "outputs": [
        {
          "output_type": "execute_result",
          "data": {
            "text/html": [
              "<div>\n",
              "<style scoped>\n",
              "    .dataframe tbody tr th:only-of-type {\n",
              "        vertical-align: middle;\n",
              "    }\n",
              "\n",
              "    .dataframe tbody tr th {\n",
              "        vertical-align: top;\n",
              "    }\n",
              "\n",
              "    .dataframe thead th {\n",
              "        text-align: right;\n",
              "    }\n",
              "</style>\n",
              "<table border=\"1\" class=\"dataframe\">\n",
              "  <thead>\n",
              "    <tr style=\"text-align: right;\">\n",
              "      <th></th>\n",
              "      <th>text</th>\n",
              "      <th>label</th>\n",
              "      <th>age</th>\n",
              "      <th>sent_count</th>\n",
              "    </tr>\n",
              "  </thead>\n",
              "  <tbody>\n",
              "    <tr>\n",
              "      <th>0</th>\n",
              "      <td>Когда-то я был добрым романтиком, который стре...</td>\n",
              "      <td>1</td>\n",
              "      <td>32.0</td>\n",
              "      <td>15</td>\n",
              "    </tr>\n",
              "    <tr>\n",
              "      <th>1</th>\n",
              "      <td>Здраствуйте! Я каждый день просыпаюсь с мыслью...</td>\n",
              "      <td>1</td>\n",
              "      <td>28.0</td>\n",
              "      <td>6</td>\n",
              "    </tr>\n",
              "    <tr>\n",
              "      <th>2</th>\n",
              "      <td>У меня проблемы с девушкой. Каждую ссору я не ...</td>\n",
              "      <td>1</td>\n",
              "      <td>16.0</td>\n",
              "      <td>10</td>\n",
              "    </tr>\n",
              "    <tr>\n",
              "      <th>3</th>\n",
              "      <td>Вся моя жизнь это один сплошной ад, в котором ...</td>\n",
              "      <td>1</td>\n",
              "      <td>32.0</td>\n",
              "      <td>5</td>\n",
              "    </tr>\n",
              "    <tr>\n",
              "      <th>4</th>\n",
              "      <td>Я хочу уснуть и не проснуться.каждый день одно...</td>\n",
              "      <td>1</td>\n",
              "      <td>14.0</td>\n",
              "      <td>18</td>\n",
              "    </tr>\n",
              "  </tbody>\n",
              "</table>\n",
              "</div>"
            ],
            "text/plain": [
              "                                                text  label   age  sent_count\n",
              "0  Когда-то я был добрым романтиком, который стре...      1  32.0          15\n",
              "1  Здраствуйте! Я каждый день просыпаюсь с мыслью...      1  28.0           6\n",
              "2  У меня проблемы с девушкой. Каждую ссору я не ...      1  16.0          10\n",
              "3  Вся моя жизнь это один сплошной ад, в котором ...      1  32.0           5\n",
              "4  Я хочу уснуть и не проснуться.каждый день одно...      1  14.0          18"
            ]
          },
          "metadata": {
            "tags": []
          },
          "execution_count": 3
        }
      ]
    },
    {
      "cell_type": "markdown",
      "metadata": {
        "id": "NX7FxEafFTiy",
        "colab_type": "text"
      },
      "source": [
        "2. Напишите функцию для токенизации текста. Удалите стоп-слова.\n",
        "\n",
        "\n",
        "   *я сразу здесь же удалю пунктуацию, потому что мне кажется, это логично*\n",
        "   \n",
        "   *и приведу все к нижнему регистру, а то что-то из стоп-слов может удалиться,  а что-то - нет*"
      ]
    },
    {
      "cell_type": "code",
      "metadata": {
        "id": "Y1S782xBFlIi",
        "colab_type": "code",
        "colab": {}
      },
      "source": [
        "def tokenizing(text):\n",
        "  tokens = list(tokenize(text))\n",
        "  tokens = [_.text.lower() for _ in tokens if _.text.lower() not in stopwords and _.text not in punkt]\n",
        "  return tokens"
      ],
      "execution_count": 4,
      "outputs": []
    },
    {
      "cell_type": "markdown",
      "metadata": {
        "id": "HVq8if4s8q_1",
        "colab_type": "text"
      },
      "source": [
        "3. Посчитайте количество токенов в тексте (без стоп-слов). Найдите среднее этих значений как по всей выборке, так и внутри каждого класса. "
      ]
    },
    {
      "cell_type": "code",
      "metadata": {
        "id": "rP8_BV3I-RPE",
        "colab_type": "code",
        "colab": {
          "base_uri": "https://localhost:8080/",
          "height": 202
        },
        "outputId": "b847bbcd-6b05-4376-f468-4c96fd99f799"
      },
      "source": [
        "df['tokens_count'] = df['text'].apply(lambda x: len(tokenizing(x)))\n",
        "df.head()"
      ],
      "execution_count": 5,
      "outputs": [
        {
          "output_type": "execute_result",
          "data": {
            "text/html": [
              "<div>\n",
              "<style scoped>\n",
              "    .dataframe tbody tr th:only-of-type {\n",
              "        vertical-align: middle;\n",
              "    }\n",
              "\n",
              "    .dataframe tbody tr th {\n",
              "        vertical-align: top;\n",
              "    }\n",
              "\n",
              "    .dataframe thead th {\n",
              "        text-align: right;\n",
              "    }\n",
              "</style>\n",
              "<table border=\"1\" class=\"dataframe\">\n",
              "  <thead>\n",
              "    <tr style=\"text-align: right;\">\n",
              "      <th></th>\n",
              "      <th>text</th>\n",
              "      <th>label</th>\n",
              "      <th>age</th>\n",
              "      <th>sent_count</th>\n",
              "      <th>tokens_count</th>\n",
              "    </tr>\n",
              "  </thead>\n",
              "  <tbody>\n",
              "    <tr>\n",
              "      <th>0</th>\n",
              "      <td>Когда-то я был добрым романтиком, который стре...</td>\n",
              "      <td>1</td>\n",
              "      <td>32.0</td>\n",
              "      <td>15</td>\n",
              "      <td>157</td>\n",
              "    </tr>\n",
              "    <tr>\n",
              "      <th>1</th>\n",
              "      <td>Здраствуйте! Я каждый день просыпаюсь с мыслью...</td>\n",
              "      <td>1</td>\n",
              "      <td>28.0</td>\n",
              "      <td>6</td>\n",
              "      <td>64</td>\n",
              "    </tr>\n",
              "    <tr>\n",
              "      <th>2</th>\n",
              "      <td>У меня проблемы с девушкой. Каждую ссору я не ...</td>\n",
              "      <td>1</td>\n",
              "      <td>16.0</td>\n",
              "      <td>10</td>\n",
              "      <td>43</td>\n",
              "    </tr>\n",
              "    <tr>\n",
              "      <th>3</th>\n",
              "      <td>Вся моя жизнь это один сплошной ад, в котором ...</td>\n",
              "      <td>1</td>\n",
              "      <td>32.0</td>\n",
              "      <td>5</td>\n",
              "      <td>25</td>\n",
              "    </tr>\n",
              "    <tr>\n",
              "      <th>4</th>\n",
              "      <td>Я хочу уснуть и не проснуться.каждый день одно...</td>\n",
              "      <td>1</td>\n",
              "      <td>14.0</td>\n",
              "      <td>18</td>\n",
              "      <td>199</td>\n",
              "    </tr>\n",
              "  </tbody>\n",
              "</table>\n",
              "</div>"
            ],
            "text/plain": [
              "                                                text  ...  tokens_count\n",
              "0  Когда-то я был добрым романтиком, который стре...  ...           157\n",
              "1  Здраствуйте! Я каждый день просыпаюсь с мыслью...  ...            64\n",
              "2  У меня проблемы с девушкой. Каждую ссору я не ...  ...            43\n",
              "3  Вся моя жизнь это один сплошной ад, в котором ...  ...            25\n",
              "4  Я хочу уснуть и не проснуться.каждый день одно...  ...           199\n",
              "\n",
              "[5 rows x 5 columns]"
            ]
          },
          "metadata": {
            "tags": []
          },
          "execution_count": 5
        }
      ]
    },
    {
      "cell_type": "code",
      "metadata": {
        "id": "tpmYXYtcVHvd",
        "colab_type": "code",
        "colab": {
          "base_uri": "https://localhost:8080/",
          "height": 34
        },
        "outputId": "c2777c24-1ed4-45c4-e05a-7602f0ac4e26"
      },
      "source": [
        "df['tokens_count'].mean()"
      ],
      "execution_count": null,
      "outputs": [
        {
          "output_type": "execute_result",
          "data": {
            "text/plain": [
              "110.29799028716876"
            ]
          },
          "metadata": {
            "tags": []
          },
          "execution_count": 8
        }
      ]
    },
    {
      "cell_type": "code",
      "metadata": {
        "id": "8cH0_dXUVMhR",
        "colab_type": "code",
        "colab": {
          "base_uri": "https://localhost:8080/",
          "height": 86
        },
        "outputId": "c360443e-9d8c-4fcd-a057-13b7417c0e7c"
      },
      "source": [
        "df.groupby(['label'])['tokens_count'].mean()"
      ],
      "execution_count": null,
      "outputs": [
        {
          "output_type": "execute_result",
          "data": {
            "text/plain": [
              "label\n",
              "0    147.988570\n",
              "1     72.603879\n",
              "Name: tokens_count, dtype: float64"
            ]
          },
          "metadata": {
            "tags": []
          },
          "execution_count": 9
        }
      ]
    },
    {
      "cell_type": "markdown",
      "metadata": {
        "id": "xXsyP9NHG-gO",
        "colab_type": "text"
      },
      "source": [
        "4. Напишите функцию, которая переводит текст в последовательность лемм."
      ]
    },
    {
      "cell_type": "code",
      "metadata": {
        "id": "n1o_Rh2iHDmH",
        "colab_type": "code",
        "colab": {}
      },
      "source": [
        "def lemmatizing(text, morph=morph):\n",
        "  return [morph.parse(word)[0].normal_form for word in tokenizing(text)]"
      ],
      "execution_count": 7,
      "outputs": []
    },
    {
      "cell_type": "markdown",
      "metadata": {
        "id": "D5kyEWTZ98r3",
        "colab_type": "text"
      },
      "source": [
        "5. Напишите функцию, которая переводит текст в последовательность частеречных тегов."
      ]
    },
    {
      "cell_type": "code",
      "metadata": {
        "id": "83EABAwH756M",
        "colab_type": "code",
        "colab": {}
      },
      "source": [
        "def pos_tagging(text, morph=morph):\n",
        "  return [morph.parse(word)[0].tag.POS for word in tokenizing(text)]"
      ],
      "execution_count": 8,
      "outputs": []
    },
    {
      "cell_type": "markdown",
      "metadata": {
        "id": "d7VAjC4VHSyi",
        "colab_type": "text"
      },
      "source": [
        "6. Какие слова мы можем добавить в список стоп-слов? Приведите примеры и объясните, почему."
      ]
    },
    {
      "cell_type": "markdown",
      "metadata": {
        "id": "YBvElevnkxnJ",
        "colab_type": "text"
      },
      "source": [
        "*Посмотрим на первые 20 лемматизированных текстов, чтобы прикинуть, что может быть стоп-словами:*"
      ]
    },
    {
      "cell_type": "code",
      "metadata": {
        "id": "9arj7-jxiShu",
        "colab_type": "code",
        "colab": {
          "base_uri": "https://localhost:8080/",
          "height": 1000
        },
        "outputId": "b55a12c6-5e58-484e-f06e-3a3d66dec85f"
      },
      "source": [
        "for t in df['text'][:20].values:\n",
        "  print(lemmatizing(t))\n",
        "  print('\\n')"
      ],
      "execution_count": null,
      "outputs": [
        {
          "output_type": "stream",
          "text": [
            "['когда-то', 'добрый', 'романтик', 'который', 'стремиться', 'помочь', 'весь', 'попросить', 'жалко', 'верить', 'человечность', 'однако', 'это', 'фальший', 'суррогатный', 'дружба', 'какой-то', 'непонятный', 'отношение', 'девушка', 'который', 'клясться', 'любить', 'итог', 'изменить', 'уйти', 'другой', 'появиться', 'бесперспективный', 'попросту', 'достаточный', 'достаток', 'собственный', 'жильё', 'родитель', 'шизофрения', 'f', '20.2', 'никто', 'поддерживать', 'поддерживать', 'итак', 'отдавать', 'кусочек', 'каждый', 'потерять', 'свой', 'душевный', 'тепло', 'стать', 'безразличный', 'апатия', 'бывший', 'девушка', 'всякий', 'усилие', 'найти', 'новый', 'который', 'сразу', 'жениться', 'возить', 'разный', 'страна', 'мир', 'браться', 'любой', 'работа', 'показать', 'плохой', 'часто', 'обманывать', 'недоплачивать', 'оплачивать', 'вовсе', 'простой', 'неудачник', 'который', 'потерять', 'смысл', 'жизнь', 'мой', 'ситуация', 'спасать', 'внешность', 'ужасный', 'попросту', 'урод', 'часто', 'завидовать', 'кто', 'повезти', 'внешность', 'любить', 'даваться', 'легко', 'заниматься', 'свой', 'любимый', 'дело', 'часто', 'посещать', 'мысль', 'никто', 'это', 'также', 'это', 'тщетно', 'бессмысленно', 'это', 'сказываться', 'пустота', 'внутри', 'часто', 'удивлять', 'многий', 'повезти', 'складываться', 'почему', 'складываться', 'почему', 'выходить', 'как-то', 'потерять', 'документ', 'мой', 'заплатить', 'именно', 'именно', 'мой', 'место', 'закрытый', 'именно', 'использовать', 'бросать', 'именно', 'такой', 'родитель', 'хотеться', 'окружать', 'оказаться', 'мой', 'место', 'прочувствовать', 'это', 'понять', 'каков', 'это', 'глубокий', 'просто', 'хотеть', 'прекратить', 'это', 'просто', 'прервать', 'свой', 'существование']\n",
            "\n",
            "\n",
            "['здраствовать', 'каждый', 'день', 'просыпаться', 'мысль', 'жить', 'дизнь', 'пустой', 'безсмысленный', 'муж', 'ребёнок', 'отношение', 'какой', 'безпросветный', 'тотальный', 'одиночество', 'который', 'никак', 'заканчиваться', 'мой', 'попытка', 'познакомиться', 'кто', 'ничто', 'заканчиваться', 'пытвться', 'сделать', 'выходить', 'барахтаться', 'барахтаться', 'дело', 'двигаться', 'мёртвый', 'точка', 'понимать', 'осознавать', 'оно', 'старший', 'становиться', 'страшный', 'говорить', 'занять', 'отвлечься', 'пробовать', 'помогать', 'почва', 'всез', 'этот', 'переживание', 'пошатнуться', 'здоровье', 'плохо', 'спать', 'практически', 'есть', 'быть', 'медленно', 'умирать', 'дальнейший', 'существование', 'безсмысленно', 'занимать', 'чей', 'место']\n",
            "\n",
            "\n",
            "['проблема', 'девушка', 'каждый', 'ссора', 'мочь', 'перенести', 'очень', 'сложно', 'хотеться', 'умереть', 'понимать', 'мочь', 'сделать', 'причинить', 'боль', 'родной', 'близкие', 'виноватый', 'именно', 'очень', 'тупить', 'многое', 'забывать', 'пытаться', 'испрвиться', 'снова', 'снова', 'попадать', 'тот', 'грабли', 'один', 'ситуация', 'который', 'планировать', 'покончить', 'себя', 'новый', 'год', 'смочь', 'ситуация', 'виноватый', 'второй', 'половина']\n",
            "\n",
            "\n",
            "['весь', 'жизнь', 'это', 'сплошной', 'ад', 'который', 'горе', 'постоянно', 'устать', 'понимать', 'кто', 'плохой', 'сделать', 'почему', 'это', 'происходить', 'отец', 'умереть', '7', 'детство', 'провести', 'отец', 'который', 'очень', 'хватать']\n",
            "\n",
            "\n",
            "['хотеть', 'уснуть', 'проснуться', 'каждый', 'день', 'один', 'какой', 'время', 'считать', 'крутой', 'друг', 'учиться', 'четвёрка', 'обычный', 'жизнь', '15', 'март', '2017', 'год', 'чувтвовал', 'важно', 'хотеть', 'отпраситься', 'урок', 'разрешить', 'школа', 'попасть', 'дтп', 'получить', 'открытый', 'перелом', 'правый', 'нога', 'голень', 'зашить', 'рана', 'подровнять', 'кость', 'ровно', '11', 'апрель', 'сделать', 'операция', 'выставить', 'пластина', '30', 'апрель', 'отправить', 'лечиться', 'дом', 'всё', 'неплохо', 'осень', 'ходить', 'свой', 'нога', 'нога', 'начало', 'гноиться', 'зимой', 'убрать', 'пластина', 'носить', 'гипс', 'весна', 'носить', 'гипс', 'почему-то', 'кость', 'искревиться', 'врач', 'сказать', 'её', 'подровнять', 'это', 'время', 'ходить', 'школа', 'родитель', 'школа', 'сказать', 'мочь', 'оставить', 'второй', 'год', 'хотеть', 'оставаться', 'начало', 'апрель', 'ходить', 'ноо', 'кость', 'сей', 'пора', 'кривая', 'лето', 'печать', 'диагноз', 'хронический', 'остемелита', 'депрессия', 'сентябрь', 'школа', 'ходить', 'гипс', 'трость', 'смотреть', 'обезянка', 'зоопарк', 'заметить', 'мой', 'друг', 'начать', 'сторониться', 'это', 'волновать', 'стать', 'учиться', 'уделять', 'время', 'учёба', 'кость', 'сей', 'пора', 'кривая', 'выпремлять', 'один', 'место', 'нога', 'гипс', 'натереть', 'мазоль', 'начало', 'гноиться', 'депрессия', 'хотеть', 'жить', 'никто', 'желание', 'продолжать', 'жизнь', 'родитель', 'родственник', 'сказать', 'пройти', 'время', 'будущее', 'вспомнить', 'смочь', 'начать', 'зановый', 'начать', 'зановый', 'огромный', 'шрам', 'нога', 'думать', 'хороший', 'страдать', 'умереть', 'день', 'еслиб', 'умереть', 'страдать', 'родитель', 'сказать', 'весь', 'сам', 'виноватый', 'родитель', 'стараться', 'показывать', 'свой', 'страдание', 'родитель', 'слишком', 'многое', 'просить', 'свой', 'мысль', 'рассказывать', 'смерть', 'быть', 'волноваться', 'подумать', 'подумывать', 'суедцида', 'молиться', 'бог', 'нагрешить', 'тётя', 'сказать', 'долго', 'гноиться', 'мочь', 'нога', 'остаться', 'думать', 'хотеть']\n",
            "\n",
            "\n",
            "['здравствуйте', 'мама', 'ребёнок', 'инвалид', '6', 'год', 'зпрра', 'аутичный', 'черта', 'гиперактивность', 'просто', 'орать', 'часами', 'ломать', 'крушить', 'др', 'сей', 'штаны', 'большой', 'ходить', '10', 'день', 'стать', 'пол', 'это', 'размазывать', 'стать', 'просто', 'раба', 'выполнять', 'желание', 'мочь', 'торт', 'печь', '1', 'час', 'ночь', 'гулять', 'весь', 'день', 'высокий', 'температура', 'нога', 'валиться', 'иначе', 'кошмар', 'постоянный', 'истерика', 'сад', 'идти', 'кричать', 'один', 'целый', 'день', 'муж', 'работать', 'работа', 'отдыхать', 'работа', 'уволиться', '2', 'год', 'назад', 'болеть', 'сын', 'часто', 'занятие', 'врач', 'ходить', 'сила', 'мой', 'устать', 'просыпаться', 'утром', 'устать', 'засыпать', 'надежда', 'проснуться', 'надоесть', 'ненавидеть', 'брать', 'рука', 'истерика', 'просто', 'ломать', 'взрослый', 'дочь', 'внук', 'хватать', 'обращение', 'бог', 'платный', 'психолог', 'парикмахерская', 'редкий', 'прогулка', 'пока', 'занятие', 'аромаванна', 'масло', 'новый', 'платье', 'поход', 'кафе', 'вышивание', 'хобби', 'секс', 'советовать', 'обычно', 'помогать', 'хотеть', 'получать', 'лечение', 'специалист', 'возможность', 'сын', 'идти', 'считать', 'нужный', 'друг', 'случай', 'истерика', 'оставить', 'некого', 'муж', 'чужой', 'стать', 'пить', 'начать', 'спасибо', 'уйти', 'семья', 'вообще', 'работать', 'видеть', 'свет', 'конец', 'тоннель', 'здоровье', 'стать', 'подводить', 'жить', 'постоянный', 'страх', 'бояться', 'сын', 'начаться', 'истерика', 'бояться', 'муж', 'начать', 'вопить', 'истерика', 'сын', 'бояться', 'окружать', 'негатив', 'кроме', 'ребёнок', 'должный', 'обслужить', 'муж', 'способный', 'чай', 'налить', 'вкусно', 'приготовить', 'убраться', 'терпеть', 'бардак', 'должный', 'дочь', 'помочь', 'свекровь', 'другой', 'родственник', 'должный', 'сосед', 'страдать', 'вопль', 'мой', 'ребёнок', 'недавно', 'сын', 'пальчик', 'ткнуть', 'девочка', 'слегка', 'мать', 'орало', 'должный', 'вообще', 'шаг', 'отходить', 'должный', 'выглядеть', 'даба', 'травмировать', 'совершенно', 'посторонний', 'человек', 'хотя', 'честно', 'душа', 'идти', 'желание', 'сила', 'должный', 'хороший', 'мама', 'бабушка', 'вообще', 'молчать', 'это', 'задолжать', 'успеть', 'свой', '40', 'год', 'весь', 'мир', 'надоесть', 'голова', 'мысль', 'суицид', 'сдерживать', 'придумать', 'это', 'сделать', 'наверняка']\n",
            "\n",
            "\n",
            "['месяц', 'назад', 'начало', 'общиться', 'иностранец', 'идти', 'отлично', 'китаец', 'начать', 'шантаж', 'прифотошопить', 'мой', 'лицо', 'голос', 'тело', 'собираться', 'это', 'разослать', 'взамен', 'хотеть', 'деньга', 'общение', 'камера', 'думать', 'страшный', 'сделать', 'скрин', 'оттуда', 'стать', 'сильный', 'шантажировать', 'грозиться', 'показать', 'верхний', 'часть', 'туловище', 'лицо', 'разослать', 'шантажировать', 'разослать', 'показать', 'тело', 'истерика', 'мой', 'однокласснка', 'сегодня', 'подойти', 'сказать', 'твой', 'голый', 'фото', 'уйти', 'школа', 'мочь', 'туда', 'возвращиться', 'мочь', 'сказать', 'родитель', 'плохо', 'хотеть', 'умереть', 'говорить', 'это', 'казаться', 'врать', '...', 'делать', '..', 'игнора', 'помогать', 'помогать']\n",
            "\n",
            "\n",
            "['начать', 'начало', 'мама', 'очень', 'плохой', 'отношение', 'уйти', 'отчим', 'винить', 'весь', 'отношение', 'вообще', 'плохо', 'бра', 'сестра', 'нужно', 'нужно', 'просто', 'посидеть', 'ребёнок', 'друг', 'знакомый', 'интересно', 'мой', 'состояние', 'бывать', 'день', 'радоваться', 'это', 'год', 'человек', 'который', 'любить', 'говорить', 'использовать', 'верить', 'друг', 'говорить', 'нужный', 'верить', 'говорить', 'переспать', 'весь', 'мой', 'знакомый', 'начало', 'сомневаться', 'немой', 'равно', 'себя', 'защищать', 'оказываться', 'это', 'правда', 'любить', 'хотеть', 'жить', 'быть', 'мучаться', 'учёба', 'плохо', '9', 'класс', '4', 'пересдача', 'смочь', 'сдать', 'математика', 'итог', 'второй', 'год', 'план', 'отмениться', 'такой', 'простой', 'общий', 'покончить', 'себя', 'хотеть', 'жить', 'смысл', 'мочь', 'чувствовать']\n",
            "\n",
            "\n",
            "['первый', 'последний', 'сходить', 'косметолог', 'быть', 'описывать', 'итог', 'поражение', 'нерв', 'лицо', 'жутко', 'жечь', 'резать', 'отечь', 'провисание', 'ткань', 'вокруг', 'рот']\n",
            "\n",
            "\n",
            "['год', 'очень', 'трудный', '....']\n",
            "\n",
            "\n",
            "['23', 'мама', 'студентка', 'жить', 'вместе', 'дочь', 'её', 'отец', 'съёмный', 'квартира', '2', 'год', 'год', 'тяжёлый', 'насыщенный', 'сдвинуться', 'совершенно', 'забить', 'учёба', 'мочь', 'ри', 'открыть', 'книга', 'заставить', 'посуда', 'помыть', 'вообще', 'хотеться', 'просто', 'хотеть', 'просыпаться', 'тяжело', 'жить', 'вообще', 'дышать', 'каждый', 'день', 'хотеть', 'существовать', 'понимать', 'свой', 'смерть', 'принести', 'близкие', 'гора', 'совершенно', 'запутаться', 'жизнь']\n",
            "\n",
            "\n",
            "['начаться', 'новогодний', 'праздник', 'первый', 'положить', 'острый', 'боль', 'больница', 'выявить', 'небольшой', 'язва', 'данный', 'момент', 'зажить', 'резкий', 'повышение', 'сахар', 'кровь', '12.5', 'прописать', 'диета', 'мать', 'говорить', 'бабушка', 'лечить', 'давать', 'всё', 'кроме', 'входить', 'она', 'тот', 'пора', 'постоянно', 'испытывать', 'боль', 'право', 'подреберье', 'причём', 'последний', 'месяц', 'сильный', 'острый', 'отдавать', 'ребро', 'плечё', 'пар', 'гэрба', 'хронический', 'панкреатит', 'диагноз', 'который', 'подтвердиться', 'вопрос', 'целиакий', 'нарушение', 'переносимость', 'глютен', 'из-за', 'повышение', 'сахар', 'ставить', 'диабет', '2', 'тип', 'сахар', 'вести', 'очень', 'странно', 'около', '5', 'пар', 'неделя', '7.5', 'тощак', 'диета', '9', 'соблюдать', 'стараться', 'питаться', '5', 'тот', 'полный', 'понимание', 'сторона', 'родной', 'особенно', 'мать', 'приходиться', 'пить', 'лекарство', 'так', 'ч', 'обезболивать', 'ссориться', 'общий', 'жизнь', 'превратиться', 'ад', 'часто', 'возникать', 'мысль', 'суицид', 'останавливать', 'всё', 'стать', 'плохой']\n",
            "\n",
            "\n",
            "['здравствуйте', '24', 'год', 'очень', 'несчастный', 'одинокий', 'человек', 'поэтому', 'писать', 'сюда', 'детство', 'очень', 'доверчивый', 'ранимый', 'наивный', 'мама', 'оберегать', 'чрезмерно', 'опекать', 'отец', 'наоборот', 'очень', 'строгий', 'выпивать', 'бить', 'мама', 'видеть', 'мама', 'терпеть', 'измена', 'побои', 'незаметно', 'сохранить', 'образ', 'отношение', 'отец', 'стесняться', 'злой', 'доставаться', 'детство', 'рассказывать', 'вырасти', 'прийтись', 'подчиняться', 'мужчина', 'иметь', 'деньга', '16', 'год', 'отец', 'уйти', 'отношение', 'сложиться', 'резко', 'измениться', 'появиться', 'новый', 'подруга', 'поначалу', 'милый', 'затем', 'начало', 'спаивать', 'распространять', 'о', 'гадость', 'весь', 'школа', 'пользоваться', 'также', 'переживать', 'расставание', 'парень', 'который', 'бросить', 'затем', 'поступить', 'институт', 'немного', 'прийти', 'начало', 'учиться', 'появиться', 'плохой', 'подруга', 'который', 'незаметно', 'начало', 'выпивать', 'я', 'стать', 'происходить', 'ужасный', 'вещь', 'напиться', 'такой', 'состояние', 'соображать', 'находиться', 'подруга', 'прийти', 'какой-то', 'тип', 'который', 'итог', 'изнасиловать', 'узнать', 'заплатить', 'это', 'мой', 'подруга', 'тот', 'пора', 'пройти', '4', 'год', 'этот', 'человек', 'видеть', 'последний', 'пар', 'месяц', 'глодетый', 'чувство', 'стыд', 'вина', 'ненависть', 'позволить', 'вести', 'блудный', 'образ', 'жизнь', 'ночевать', 'дом', 'случиться', 'писать', 'сюда', 'кто', 'поделиться', 'перестать', 'доверять', 'человек', 'апатия', 'голова', 'время', 'картина', 'прошлое', 'очень', 'хотеть', 'выплакаться', 'мама', 'подозревать', 'уверить', 'девственно', 'чистый', 'иметь', 'ппоблема', 'алкоголь', 'стать', 'посещать', 'суицидальный', 'мысль', 'бояться', 'жить', 'далёкий', 'такой', 'груз', 'грязь', 'который', 'пройти', 'жалеть', 'смочь', 'поступить', 'иначе', 'прошлый', 'мочь', 'простить']\n",
            "\n",
            "\n",
            "['хронически', 'везти', 'детство', 'чёрный', 'полоса', 'двор', 'насмехаться', 'обзываться', 'школа', 'игнорить', 'травить', 'мочь', 'сделать', 'слабак', 'часто', 'болеть', 'сидеть', 'дом', 'читать', 'книжка', '9', 'кл', 'заняться', 'рукопашка', 'немного', 'стать', 'покрепче', 'запустить', 'учёба', 'поступить', 'институт', 'итог', 'пойти', 'колледж', 'экономический', 'называть', 'ботан', 'колледж', '3', 'год', 'препод', 'подшучивать', 'кое-как', 'закончить', 'замкнуться', 'кто', 'общаться', 'вообще', 'уметь', 'общаться', 'знакомиться', 'девушка', 'нету', 'интерес', 'никакой', 'сидеть', '5', 'год', 'дом', 'читать', 'книжка', 'смотреть', 'фильм', 'мочь', 'устроиться', 'работа', 'хотя', 'опыт', 'маленько', 'работать', 'дворник', 'лагер', 'хотеть', 'вожатый', 'взять', 'невезение', 'другой', 'брать', 'шиш', 'устроиться', 'книжный', 'магазин', 'сработаться', 'начальница', 'идти', 'знать', '...', 'родитель', 'говорить', 'идти', 'учиться', 'мочь', 'нету', 'сила', 'поздно', '28', 'знать', 'хотеть', 'жизнь', 'нету', 'цель', 'кругом', 'пустота', 'какой-то', 'куда-то', 'бежать', 'торопиться', 'суетиться', 'просто', 'вписываться', 'жизнь', 'неуклюжий', 'медлительный', 'пинать', 'надоесть', '...']\n",
            "\n",
            "\n",
            "['устать', '...', '11', 'класс', 'полный', 'завал', 'ежедневный', 'стресс', 'жуткий', 'изнеможение', 'самый', 'умный', 'девочка', 'достаточно', 'сильно', 'сказываться', 'дать', 'ситуация']\n",
            "\n",
            "\n",
            "['хотеть', 'жить', 'очень', 'больно', 'скоро', 'выдержать', '...', 'жить', 'очень', 'больно', 'скучно', 'интересно', '...']\n",
            "\n",
            "\n",
            "['последний', 'год', 'жить', 'ад', 'ненавидеть', 'бояться', 'людный', 'место', 'казаться', 'очень', 'глупый', 'неряшливый', 'неопрятный', 'делать', 'доставлять', 'удовольствие', 'учиться', 'работать', 'труд', 'даваться', 'мысль', 'суицид', 'успокаивать', 'просто', 'знать', 'делать', 'это', 'становиться', 'плохой', 'друг', 'приятель', 'отношение', 'думать', 'отчасти', 'из-за', 'полностью', 'отсутсвовать', 'половой', 'влечение', 'полюбить', 'мочь', 'никто', 'думать', 'это', 'нормально', 'полный', 'отсутствие', 'самооценка', 'никто', 'умирать', 'плохой', 'случиться', 'ранний', 'нормальный', 'парень', 'друг', 'девушка']\n",
            "\n",
            "\n",
            "['год', 'издавать', 'экзамен', '14', '...', 'жить', 'бабушка', 'мама', 'папа', 'развод', 'общаться']\n",
            "\n",
            "\n",
            "['привет', 'весь', 'очень', 'печально', 'жизнь', 'зависимый', 'игра', 'ранний', 'ласа', 'вегас', 'игровой', 'автомат', 'игоала', 'проблема', 'долг', 'такой', 'закрыть', 'играть', 'где-то', 'год', 'пять', 'наверное', 'узнать', 'онлайн', 'казино', 'начать', 'играть', 'долг', 'большой', 'куча', 'долг', 'жить', 'далёкий', 'знать', 'миллион', 'зарекалиться', 'всё', 'туда', 'тётка', 'взять', '350.000', 'думать', 'играть', 'быть', 'быть', 'платить', 'месяц', 'залезть', 'ещё', 'ещё', 'вообщий', 'долг', 'тысяча', '800', 'кредит', 'ещё', 'микрозаём', 'набрать', '60.000', 'капать', 'процент', 'жена', 'знать', 'половина', 'долг', 'сам', 'предел', 'где-то', 'около', 'год', 'прирывно', 'играть', 'втянуть', 'кабала', 'жалко', 'плакать', 'устать', 'мысль', 'плохой', 'голова', 'отреагировать', 'год', 'наверное', 'пить', 'успокоительный', 'худой', 'короче', 'наркоман', 'наркоман', 'мама', 'давление', 'скачить', 'ещё', 'узнать', 'какой-то', 'долг', 'пережить', 'зарплата', 'где-то', '70', 'кредит', 'плач', '35000', 'пока', 'делать', 'понять', 'это', 'весь', 'окружать', 'вернуть', 'назад']\n",
            "\n",
            "\n",
            "['жизнь', 'пытаться', 'плохой', 'другой', 'постоянно', 'оказываться', 'аутсайдер', 'работа', 'вечный', 'проблема', 'ошибка', 'который', 'получать', 'начальник', 'дом', 'никакой', 'отдушина', 'чувствовать', 'усталость', 'хотеться', 'закрыть', 'глаз', 'проснуться', 'бывать', 'часто', 'планировать', 'смерть', 'малодушие', 'позволять', 'совершить', 'последний', 'шаг']\n",
            "\n",
            "\n"
          ],
          "name": "stdout"
        }
      ]
    },
    {
      "cell_type": "markdown",
      "metadata": {
        "id": "WSVj4sIdlFSe",
        "colab_type": "text"
      },
      "source": [
        "*Можно заметить, что осталось много служебных слов, которые не имеют собственного смысла, в отдельности от всего предложения. Например: \"это\", \"кто\", \"очень\", \"все\", \"туда\", \"сюда\". В каждом предложении эти слова имеют разный смысл, и имеют привязку к совершенно разным словам. Поэтому, по сути, даже нельзя считать, что все эти слова - одно и то же. Поэтому я бы внесла их в стоп-слова. Вообще, очень странно, что слова \"это\" нет в классическом списке nltk* \n",
        "\n",
        "*Также многие посты начинаются с похожих фраз, типа \"здравствуйте\", \"каждый день я....\", \"последнее время/последний год я...\" и т.д. Они совершенно не имеют значения для нас, поэтому их тоже можно внести в стоп-слова в рамках этого датасета.*"
      ]
    },
    {
      "cell_type": "markdown",
      "metadata": {
        "id": "vcLlYOZfIWRX",
        "colab_type": "text"
      },
      "source": [
        "### Часть 3: Визуализация (1 балл)"
      ]
    },
    {
      "cell_type": "code",
      "metadata": {
        "id": "0TNZABqepdUP",
        "colab_type": "code",
        "colab": {}
      },
      "source": [
        "import matplotlib.pyplot as plt\n",
        "import seaborn as sns\n",
        "\n",
        "plt.style.use('ggplot')\n",
        "%matplotlib inline"
      ],
      "execution_count": 27,
      "outputs": []
    },
    {
      "cell_type": "markdown",
      "metadata": {
        "id": "b9s_mHYIoOjg",
        "colab_type": "text"
      },
      "source": [
        "1. Визуализируйте распределение количество предложений / текст."
      ]
    },
    {
      "cell_type": "code",
      "metadata": {
        "id": "CUgLhfWoIvKa",
        "colab_type": "code",
        "colab": {
          "base_uri": "https://localhost:8080/",
          "height": 517
        },
        "outputId": "dbcb9731-bc25-4bda-c286-725e35facc66"
      },
      "source": [
        "plt.figure(figsize=(12,8))\n",
        "sns.distplot(df['sent_count'], bins=100);\n",
        "plt.title('Гистограмма количества предложений в текстах')\n",
        "plt.xlabel('Количество предложений')\n",
        "plt.ylabel('Тексты');"
      ],
      "execution_count": 33,
      "outputs": [
        {
          "output_type": "display_data",
          "data": {
            "image/png": "[encoded data removed]",
            "text/plain": [
              "<Figure size 864x576 with 1 Axes>"
            ]
          },
          "metadata": {
            "tags": [],
            "needs_background": "light"
          }
        }
      ]
    },
    {
      "cell_type": "markdown",
      "metadata": {
        "id": "PzPsrj36KJ7n",
        "colab_type": "text"
      },
      "source": [
        "2. Визуализируйте распределение количество-предложений / текст внутри каждого класса."
      ]
    },
    {
      "cell_type": "code",
      "metadata": {
        "id": "z7R5719eV2Me",
        "colab_type": "code",
        "colab": {
          "base_uri": "https://localhost:8080/",
          "height": 517
        },
        "outputId": "219c5d7a-970b-4d8f-bd06-aa18f30a24bc"
      },
      "source": [
        "fig, axes = plt.subplots(1, 2, figsize=(13, 8))\n",
        "ax1 = sns.distplot(df[df['label']==1]['sent_count'], bins=100, ax=axes[0])\n",
        "ax2 = sns.distplot(df[df['label']==0]['sent_count'], bins=100, ax=axes[1])\n",
        "ax1.set_title('Гистограмма количества предложений класса 1')\n",
        "ax2.set_title('Гистограмма количества предложений класса 0')\n",
        "plt.show()"
      ],
      "execution_count": 42,
      "outputs": [
        {
          "output_type": "display_data",
          "data": {
            "image/png": "[encoded data removed]",
            "text/plain": [
              "<Figure size 936x576 with 2 Axes>"
            ]
          },
          "metadata": {
            "tags": [],
            "needs_background": "light"
          }
        }
      ]
    },
    {
      "cell_type": "markdown",
      "metadata": {
        "id": "5zGMiWUBQKRi",
        "colab_type": "text"
      },
      "source": [
        "3. Верно ли, что количество предложений в тексте коррелирует с возрастом автора в подвыборке от 16 до 32 лет включительно? Если да, какая это корреляция – положительная или отрицательная? Визуализируйте матрицу корреляции."
      ]
    },
    {
      "cell_type": "code",
      "metadata": {
        "id": "qAeNmcoqQi5x",
        "colab_type": "code",
        "colab": {
          "base_uri": "https://localhost:8080/",
          "height": 282
        },
        "outputId": "94922382-5ef4-4f3a-e4e7-b67c4fde1096"
      },
      "source": [
        "sub_df = df[(df['age']>15) & (df['age']<33)]\n",
        "sub_df = sub_df[['age', 'sent_count']]\n",
        "sns.heatmap(sub_df.corr())\n",
        "plt.title('Матрица корреляции количества предложений и возраста в подвыборке от 16 до 32 лет')\n",
        "plt.show()"
      ],
      "execution_count": 46,
      "outputs": [
        {
          "output_type": "display_data",
          "data": {
            "image/png": "[encoded data removed]",
            "text/plain": [
              "<Figure size 432x288 with 2 Axes>"
            ]
          },
          "metadata": {
            "tags": [],
            "needs_background": "light"
          }
        }
      ]
    },
    {
      "cell_type": "markdown",
      "metadata": {
        "id": "54ALuSnsu7t_",
        "colab_type": "text"
      },
      "source": [
        "Значение корреляции между признаком \"возраст\" и \"количество предложений\" меньше или в районе значения 0.2. Это значит, что эти признаки фактически между собой не коррелируют.\n",
        " "
      ]
    },
    {
      "cell_type": "markdown",
      "metadata": {
        "id": "nBpo_1O5Ld7H",
        "colab_type": "text"
      },
      "source": [
        "### Часть 4: Извлечение текстовых признаков (4 балла)"
      ]
    },
    {
      "cell_type": "markdown",
      "metadata": {
        "id": "oqZUzenfL2sF",
        "colab_type": "text"
      },
      "source": [
        "1. Самостоятельно реализуйте функцию для получения посимвольных н-грамм (без использования библиотек)."
      ]
    },
    {
      "cell_type": "code",
      "metadata": {
        "id": "UOOp61e1MCU-",
        "colab_type": "code",
        "colab": {
          "base_uri": "https://localhost:8080/",
          "height": 34
        },
        "outputId": "7d238870-04a4-4f51-c1ef-3c42b1f28f96"
      },
      "source": [
        "def char_ngrams(text, n):\n",
        "  return [text[i:i+n] for i in range(len(text))]\n",
        "\n",
        "text = \"уставшая мама мыла грязную раму\"\n",
        "char_ngrams(text, 3)[:10]"
      ],
      "execution_count": null,
      "outputs": [
        {
          "output_type": "execute_result",
          "data": {
            "text/plain": [
              "['уст', 'ста', 'тав', 'авш', 'вша', 'шая', 'ая ', 'я м', ' ма', 'мам']"
            ]
          },
          "metadata": {
            "tags": []
          },
          "execution_count": 52
        }
      ]
    },
    {
      "cell_type": "code",
      "metadata": {
        "id": "LctAR2cEMV0s",
        "colab_type": "code",
        "colab": {
          "base_uri": "https://localhost:8080/",
          "height": 34
        },
        "outputId": "583c32a5-4efd-4686-97e9-b266350c0af5"
      },
      "source": [
        "# пример работы функции\n",
        "\n",
        "text = \"уставшая мама мыла грязную раму\"\n",
        "\n",
        "char_ngrams(text, n=3)[:10]"
      ],
      "execution_count": null,
      "outputs": [
        {
          "output_type": "execute_result",
          "data": {
            "text/plain": [
              "['уст', 'ста', 'тав', 'авш', 'вша', 'шая', 'ая ', 'я м', ' ма', 'мам']"
            ]
          },
          "metadata": {
            "tags": []
          },
          "execution_count": 76
        }
      ]
    },
    {
      "cell_type": "markdown",
      "metadata": {
        "id": "CnPgflCeNsZA",
        "colab_type": "text"
      },
      "source": [
        "2. Самостоятельно реализуйте функцию для получения пословных н-грамм (без использования библиотек)."
      ]
    },
    {
      "cell_type": "code",
      "metadata": {
        "id": "fX_6RyMFOGL2",
        "colab_type": "code",
        "colab": {
          "base_uri": "https://localhost:8080/",
          "height": 69
        },
        "outputId": "3656e0a5-d275-4e4d-a011-f61340cfc7ef"
      },
      "source": [
        "def word_ngrams(text, n):\n",
        "  words = tokenizing(text)\n",
        "  return [words[i:i+n] for i in range(len(words)-n+1)]\n",
        "\n",
        "text = \"уставшая мама мыла грязную раму\"\n",
        "word_ngrams(text, 3)"
      ],
      "execution_count": null,
      "outputs": [
        {
          "output_type": "execute_result",
          "data": {
            "text/plain": [
              "[['уставшая', 'мама', 'мыла'],\n",
              " ['мама', 'мыла', 'грязную'],\n",
              " ['мыла', 'грязную', 'раму']]"
            ]
          },
          "metadata": {
            "tags": []
          },
          "execution_count": 12
        }
      ]
    },
    {
      "cell_type": "code",
      "metadata": {
        "id": "-XMB-niYMWbl",
        "colab_type": "code",
        "colab": {
          "base_uri": "https://localhost:8080/",
          "height": 34
        },
        "outputId": "bd31d703-8d92-4cef-dad6-625279b09f44"
      },
      "source": [
        "word_ngrams(text, 4)"
      ],
      "execution_count": null,
      "outputs": [
        {
          "output_type": "execute_result",
          "data": {
            "text/plain": [
              "[['уставшая', 'мама', 'мыла', 'грязную'], ['мама', 'мыла', 'грязную', 'раму']]"
            ]
          },
          "metadata": {
            "tags": []
          },
          "execution_count": 13
        }
      ]
    },
    {
      "cell_type": "code",
      "metadata": {
        "id": "7b-XHdadOVm5",
        "colab_type": "code",
        "colab": {
          "base_uri": "https://localhost:8080/",
          "height": 70
        },
        "outputId": "ff2948c6-a5f4-4288-d018-f14b8a8b7666"
      },
      "source": [
        "# пример работы функции\n",
        "\n",
        "word_ngrams(text, n=3)"
      ],
      "execution_count": null,
      "outputs": [
        {
          "output_type": "execute_result",
          "data": {
            "text/plain": [
              "[['уставшая', 'мама', 'мыла'],\n",
              " ['мама', 'мыла', 'грязную'],\n",
              " ['мыла', 'грязную', 'раму']]"
            ]
          },
          "metadata": {
            "tags": []
          },
          "execution_count": 90
        }
      ]
    },
    {
      "cell_type": "code",
      "metadata": {
        "id": "anLUGeXROekT",
        "colab_type": "code",
        "colab": {
          "base_uri": "https://localhost:8080/",
          "height": 34
        },
        "outputId": "ed3a30af-d19e-48c5-abe6-4605ef6dcca6"
      },
      "source": [
        "# пример работы функции\n",
        "\n",
        "word_ngrams(text, n=4)"
      ],
      "execution_count": null,
      "outputs": [
        {
          "output_type": "execute_result",
          "data": {
            "text/plain": [
              "[['уставшая', 'мама', 'мыла', 'грязную'], ['мама', 'мыла', 'грязную', 'раму']]"
            ]
          },
          "metadata": {
            "tags": []
          },
          "execution_count": 91
        }
      ]
    },
    {
      "cell_type": "markdown",
      "metadata": {
        "id": "zU4PJTZVOvcQ",
        "colab_type": "text"
      },
      "source": [
        "3. Самостоятельно реализуйте функцию для получения н-грамм лемм (без использования библиотек)."
      ]
    },
    {
      "cell_type": "code",
      "metadata": {
        "id": "dgWG3NdLO0JF",
        "colab_type": "code",
        "colab": {
          "base_uri": "https://localhost:8080/",
          "height": 69
        },
        "outputId": "15799975-43ad-471a-efcd-f3fa1499dd9e"
      },
      "source": [
        "def lemma_ngrams(text, n, morph=morph):\n",
        "  seq = lemmatizing(text)\n",
        "  return [seq[i:i+n] for i in range(len(seq)-n+1)]\n",
        "\n",
        "lemma_ngrams(text, 3)"
      ],
      "execution_count": null,
      "outputs": [
        {
          "output_type": "execute_result",
          "data": {
            "text/plain": [
              "[['устать', 'мама', 'мыло'],\n",
              " ['мама', 'мыло', 'грязный'],\n",
              " ['мыло', 'грязный', 'рама']]"
            ]
          },
          "metadata": {
            "tags": []
          },
          "execution_count": 16
        }
      ]
    },
    {
      "cell_type": "code",
      "metadata": {
        "id": "6MMjXol_PlG0",
        "colab_type": "code",
        "colab": {
          "base_uri": "https://localhost:8080/",
          "height": 34
        },
        "outputId": "4e0dc1f8-f2d0-4c71-a685-17788f9ffdf2"
      },
      "source": [
        "lemma_ngrams(text, 4)"
      ],
      "execution_count": null,
      "outputs": [
        {
          "output_type": "execute_result",
          "data": {
            "text/plain": [
              "[['устать', 'мама', 'мыло', 'грязный'], ['мама', 'мыло', 'грязный', 'рама']]"
            ]
          },
          "metadata": {
            "tags": []
          },
          "execution_count": 17
        }
      ]
    },
    {
      "cell_type": "code",
      "metadata": {
        "id": "BfER14VDO8I3",
        "colab_type": "code",
        "colab": {
          "base_uri": "https://localhost:8080/",
          "height": 70
        },
        "outputId": "97d6a053-3376-47e2-9489-ca9fd612140b"
      },
      "source": [
        "# пример работы функции\n",
        "\n",
        "lemma_ngrams(text, n=3)"
      ],
      "execution_count": null,
      "outputs": [
        {
          "output_type": "execute_result",
          "data": {
            "text/plain": [
              "[['устать', 'мама', 'мыло'],\n",
              " ['мама', 'мыло', 'грязный'],\n",
              " ['мыло', 'грязный', 'рам']]"
            ]
          },
          "metadata": {
            "tags": []
          },
          "execution_count": 95
        }
      ]
    },
    {
      "cell_type": "code",
      "metadata": {
        "id": "k1XmkQ_rO_p1",
        "colab_type": "code",
        "colab": {
          "base_uri": "https://localhost:8080/",
          "height": 52
        },
        "outputId": "99a26cb6-ca99-427c-ddc4-c901e3f184a1"
      },
      "source": [
        "# пример работы функции\n",
        "\n",
        "lemma_ngrams(text, n=4)"
      ],
      "execution_count": null,
      "outputs": [
        {
          "output_type": "execute_result",
          "data": {
            "text/plain": [
              "[['устать', 'мама', 'мыло', 'грязный'],\n",
              " ['мама', 'мыло', 'грязный', 'рам']]"
            ]
          },
          "metadata": {
            "tags": []
          },
          "execution_count": 96
        }
      ]
    },
    {
      "cell_type": "markdown",
      "metadata": {
        "id": "LHUo6LdLOblj",
        "colab_type": "text"
      },
      "source": [
        "4. Самостоятельно реализуйте функцию для получения н-грамм частеречных тегов (без использования библиотек)."
      ]
    },
    {
      "cell_type": "code",
      "metadata": {
        "id": "YlPDRUCcOoCX",
        "colab_type": "code",
        "colab": {
          "base_uri": "https://localhost:8080/",
          "height": 34
        },
        "outputId": "fe8402fe-5f2c-4a21-c8d7-5ea6bd3922b9"
      },
      "source": [
        "def pos_ngrams(text, n, morph=morph):\n",
        "  seq = pos_tagging(text)\n",
        "  return [seq[i:i+n] for i in range(len(seq)-n+1)]\n",
        "\n",
        "pos_ngrams(text, 3)"
      ],
      "execution_count": null,
      "outputs": [
        {
          "output_type": "execute_result",
          "data": {
            "text/plain": [
              "[['PRTF', 'NOUN', 'NOUN'], ['NOUN', 'NOUN', 'ADJF'], ['NOUN', 'ADJF', 'NOUN']]"
            ]
          },
          "metadata": {
            "tags": []
          },
          "execution_count": 19
        }
      ]
    },
    {
      "cell_type": "code",
      "metadata": {
        "id": "tGgTi6TzP1so",
        "colab_type": "code",
        "colab": {
          "base_uri": "https://localhost:8080/",
          "height": 34
        },
        "outputId": "f1ab8392-fa15-45b6-b120-373ca1264ce7"
      },
      "source": [
        "pos_ngrams(text, 4)"
      ],
      "execution_count": null,
      "outputs": [
        {
          "output_type": "execute_result",
          "data": {
            "text/plain": [
              "[['PRTF', 'NOUN', 'NOUN', 'ADJF'], ['NOUN', 'NOUN', 'ADJF', 'NOUN']]"
            ]
          },
          "metadata": {
            "tags": []
          },
          "execution_count": 44
        }
      ]
    },
    {
      "cell_type": "code",
      "metadata": {
        "id": "a4kQmEqiPHPv",
        "colab_type": "code",
        "colab": {
          "base_uri": "https://localhost:8080/",
          "height": 34
        },
        "outputId": "ede469bd-8410-4c03-f361-42887601fc9f"
      },
      "source": [
        "# пример работы функции\n",
        "\n",
        "pos_ngrams(text, n=3)"
      ],
      "execution_count": null,
      "outputs": [
        {
          "output_type": "execute_result",
          "data": {
            "text/plain": [
              "[['PRTF', 'NOUN', 'NOUN'], ['NOUN', 'NOUN', 'ADJF'], ['NOUN', 'ADJF', 'NOUN']]"
            ]
          },
          "metadata": {
            "tags": []
          },
          "execution_count": 99
        }
      ]
    },
    {
      "cell_type": "code",
      "metadata": {
        "id": "iBh5fRbOPKsn",
        "colab_type": "code",
        "colab": {
          "base_uri": "https://localhost:8080/",
          "height": 34
        },
        "outputId": "e4fdb66d-2f6e-4558-9072-7536adea29b2"
      },
      "source": [
        "# пример работы функции\n",
        "\n",
        "pos_ngrams(text, n=4)"
      ],
      "execution_count": null,
      "outputs": [
        {
          "output_type": "execute_result",
          "data": {
            "text/plain": [
              "[['PRTF', 'NOUN', 'NOUN', 'ADJF'], ['NOUN', 'NOUN', 'ADJF', 'NOUN']]"
            ]
          },
          "metadata": {
            "tags": []
          },
          "execution_count": 100
        }
      ]
    },
    {
      "cell_type": "markdown",
      "metadata": {
        "id": "ZnUBQ6hLPNb3",
        "colab_type": "text"
      },
      "source": [
        "5. Самостоятельно реализуйте функцию для получения частотного словаря частеречных тегов по коллекции документов."
      ]
    },
    {
      "cell_type": "code",
      "metadata": {
        "id": "KDPXRkLGWzAJ",
        "colab_type": "code",
        "colab": {}
      },
      "source": [
        "from tqdm.notebook import tqdm"
      ],
      "execution_count": 9,
      "outputs": []
    },
    {
      "cell_type": "code",
      "metadata": {
        "id": "P69DZahVPctr",
        "colab_type": "code",
        "colab": {
          "base_uri": "https://localhost:8080/",
          "height": 84,
          "referenced_widgets": [
            "937050e4a020482ab5ffb62606104639",
            "a0af5780589348e290ac7b6bec7d033a",
            "94e14a7e0ccc490aa1223f5c7f3c39ca",
            "de741c2e1d0b4cd98b7951413cfa8338",
            "e1d1ce53dc324c26905326907ca62724",
            "2fa3527707dd4564ada65e8a926d5909",
            "83347de7378a4d3ba407759987021065",
            "167996c41d9646e893e58cdd90d1dedb"
          ]
        },
        "outputId": "33a3f287-5625-43de-e1af-8e5acc50c728"
      },
      "source": [
        "def build_pos_dict(corpus):\n",
        "  pos_dict = {}\n",
        "  for text in tqdm(corpus):\n",
        "    tags = pos_tagging(text)\n",
        "    for pos in tags:\n",
        "      if pos in pos_dict.keys():\n",
        "        pos_dict[pos] += 1\n",
        "      else:\n",
        "        pos_dict[pos] = 1\n",
        "  return pos_dict\n",
        "\n",
        "corpus = [\n",
        "    \"мама мыла уставшую раму\",\n",
        "    \"высшая школа экономики\",\n",
        "    \"компьютерная лингвистика\",\n",
        "    \"осень наступила\"\n",
        "]\n",
        "\n",
        "build_pos_dict(corpus)"
      ],
      "execution_count": 10,
      "outputs": [
        {
          "output_type": "display_data",
          "data": {
            "application/vnd.jupyter.widget-view+json": {
              "model_id": "937050e4a020482ab5ffb62606104639",
              "version_minor": 0,
              "version_major": 2
            },
            "text/plain": [
              "HBox(children=(FloatProgress(value=0.0, max=4.0), HTML(value='')))"
            ]
          },
          "metadata": {
            "tags": []
          }
        },
        {
          "output_type": "stream",
          "text": [
            "\n"
          ],
          "name": "stdout"
        },
        {
          "output_type": "execute_result",
          "data": {
            "text/plain": [
              "{'ADJF': 2, 'NOUN': 7, 'PRTF': 1, 'VERB': 1}"
            ]
          },
          "metadata": {
            "tags": []
          },
          "execution_count": 10
        }
      ]
    },
    {
      "cell_type": "code",
      "metadata": {
        "id": "7ZLFo264Pa4b",
        "colab_type": "code",
        "colab": {
          "base_uri": "https://localhost:8080/",
          "height": 34
        },
        "outputId": "e43a31d5-f4ec-4468-8ad2-c892cfa4c662"
      },
      "source": [
        "# пример работы функции\n",
        "\n",
        "corpus = [\n",
        "    \"мама мыла уставшую раму\",\n",
        "    \"высшая школа экономики\",\n",
        "    \"компьютерная лингвистика\",\n",
        "    \"осень наступила\"\n",
        "]\n",
        "\n",
        "build_pos_dict(corpus)"
      ],
      "execution_count": null,
      "outputs": [
        {
          "output_type": "execute_result",
          "data": {
            "text/plain": [
              "{'ADJF': 2, 'NOUN': 7, 'PRTF': 1, 'VERB': 1}"
            ]
          },
          "metadata": {
            "tags": []
          },
          "execution_count": 106
        }
      ]
    },
    {
      "cell_type": "markdown",
      "metadata": {
        "id": "He8DgVCyXWTu",
        "colab_type": "text"
      },
      "source": [
        "Для всего датасета:"
      ]
    },
    {
      "cell_type": "code",
      "metadata": {
        "id": "SL-LQ2jKXJ1u",
        "colab_type": "code",
        "colab": {
          "base_uri": "https://localhost:8080/",
          "height": 378,
          "referenced_widgets": [
            "2af13fdf749e41668558c7cbd835c5b0",
            "7b241b072bb84ad882f2c94a1c6cd0ba",
            "d7fc5708770b4fc981bbf06465f59283",
            "21450fa782be4400b2a87cf47659d0c4",
            "ad6cba108c484883bc245e59e8f22a08",
            "a08b76ef65104721ab53ac67de39bd0b",
            "063e0a3f791d4380b0b7181683e25cf8",
            "c91c392e73da43399108e533db3cfbaf"
          ]
        },
        "outputId": "966ca200-52f4-4c19-c397-adec5ee423ed"
      },
      "source": [
        "build_pos_dict(df['text'])"
      ],
      "execution_count": null,
      "outputs": [
        {
          "output_type": "display_data",
          "data": {
            "application/vnd.jupyter.widget-view+json": {
              "model_id": "2af13fdf749e41668558c7cbd835c5b0",
              "version_minor": 0,
              "version_major": 2
            },
            "text/plain": [
              "HBox(children=(FloatProgress(value=0.0, max=64039.0), HTML(value='')))"
            ]
          },
          "metadata": {
            "tags": []
          }
        },
        {
          "output_type": "stream",
          "text": [
            "\n"
          ],
          "name": "stdout"
        },
        {
          "output_type": "execute_result",
          "data": {
            "text/plain": [
              "{'ADJF': 1102687,\n",
              " 'ADJS': 54107,\n",
              " 'ADVB': 267188,\n",
              " 'COMP': 22990,\n",
              " 'CONJ': 32368,\n",
              " 'GRND': 20628,\n",
              " 'INFN': 264475,\n",
              " 'INTJ': 12620,\n",
              " 'NOUN': 3214936,\n",
              " 'NPRO': 57882,\n",
              " 'NUMR': 19738,\n",
              " None: 806414,\n",
              " 'PRCL': 110080,\n",
              " 'PRED': 12440,\n",
              " 'PREP': 40274,\n",
              " 'PRTF': 64489,\n",
              " 'PRTS': 51805,\n",
              " 'VERB': 908252}"
            ]
          },
          "metadata": {
            "tags": []
          },
          "execution_count": 47
        }
      ]
    },
    {
      "cell_type": "markdown",
      "metadata": {
        "id": "yb_mcJ8sSr3-",
        "colab_type": "text"
      },
      "source": [
        "6. Постройте частотный словарь лемм по текстам внутри каждого класса. Найдите топ-15 лемм для текстов каждого класса. Есть ли между этими списками пересечение? Если да, сколько лемм пересекается?"
      ]
    },
    {
      "cell_type": "code",
      "metadata": {
        "id": "nP6_MZbHTLtf",
        "colab_type": "code",
        "colab": {
          "base_uri": "https://localhost:8080/",
          "height": 66,
          "referenced_widgets": [
            "219d7015bb854335829f7c76628f2074",
            "a4e5becae2e34ad0843e6596a87d5555",
            "25510ddac96249b2913c6ab89fdf930f",
            "99afdd667794455bbfb0575e20f7e872",
            "79e8813a39d74b90a34ba57745e2b4b1",
            "177beb40d2864e73bb045d3b5b86322a",
            "fc506afe42e5455092a127f1d9862727",
            "55b1e991610b479ca81499f110e3fd2f"
          ]
        },
        "outputId": "917dca3d-c8d8-4aea-fba8-a48785ce8430"
      },
      "source": [
        "def build_lemmas_dict(corpus):\n",
        "  lemmas_dict = {}\n",
        "  for text in tqdm(corpus):\n",
        "    lemmas = lemmatizing(text)\n",
        "    for l in lemmas:\n",
        "      if l in lemmas_dict.keys():\n",
        "        lemmas_dict[l] += 1\n",
        "      else:\n",
        "        lemmas_dict[l] = 1\n",
        "  return lemmas_dict\n",
        "\n",
        "freq_dict_depressive = build_lemmas_dict(df[df['label']==1]['text'])"
      ],
      "execution_count": 12,
      "outputs": [
        {
          "output_type": "display_data",
          "data": {
            "application/vnd.jupyter.widget-view+json": {
              "model_id": "219d7015bb854335829f7c76628f2074",
              "version_minor": 0,
              "version_major": 2
            },
            "text/plain": [
              "HBox(children=(FloatProgress(value=0.0, max=32018.0), HTML(value='')))"
            ]
          },
          "metadata": {
            "tags": []
          }
        },
        {
          "output_type": "stream",
          "text": [
            "\n"
          ],
          "name": "stdout"
        }
      ]
    },
    {
      "cell_type": "code",
      "metadata": {
        "id": "i8jPks-ZgSWy",
        "colab_type": "code",
        "colab": {
          "base_uri": "https://localhost:8080/",
          "height": 66,
          "referenced_widgets": [
            "f9be59e9d03949779e7e2ec0f2b7516f",
            "8c69eee4b0e8456eb80890ec69f993de",
            "0fd397ff35da40d0b31bf48057daf62c",
            "ab2d7e9682ce45aaa33a667fd5f7572a",
            "a98b34f9505b4892a70c85d2bbed8337",
            "ea1bf7a5768344ff9a1bee2a236cfaec",
            "0650e1228e5e486cb049ff87d0abef7c",
            "d92b5dba2b2d49a1956ee53f36bedd43"
          ]
        },
        "outputId": "2ec6ac36-07f8-4cd1-9096-45b172cb3924"
      },
      "source": [
        "freq_dict_nondepressive = build_lemmas_dict(df[df['label']==0]['text'])"
      ],
      "execution_count": 13,
      "outputs": [
        {
          "output_type": "display_data",
          "data": {
            "application/vnd.jupyter.widget-view+json": {
              "model_id": "f9be59e9d03949779e7e2ec0f2b7516f",
              "version_minor": 0,
              "version_major": 2
            },
            "text/plain": [
              "HBox(children=(FloatProgress(value=0.0, max=32021.0), HTML(value='')))"
            ]
          },
          "metadata": {
            "tags": []
          }
        },
        {
          "output_type": "stream",
          "text": [
            "\n"
          ],
          "name": "stdout"
        }
      ]
    },
    {
      "cell_type": "code",
      "metadata": {
        "id": "8aZL6lYJgvqg",
        "colab_type": "code",
        "colab": {
          "base_uri": "https://localhost:8080/",
          "height": 294
        },
        "outputId": "44436ca1-05fa-45fe-9095-c96b7d69191d"
      },
      "source": [
        "print('Для депрессивных постов:')\n",
        "top15_depressive = sorted(freq_dict_depressive.items(), key=lambda x: x[1], reverse=True)[:15]\n",
        "for elem in top15_depressive:\n",
        "  print(elem)"
      ],
      "execution_count": 23,
      "outputs": [
        {
          "output_type": "stream",
          "text": [
            "Для депрессивных постов:\n",
            "('это', 33953)\n",
            "('...', 31848)\n",
            "('год', 28565)\n",
            "('жить', 25568)\n",
            "('хотеть', 24525)\n",
            "('жизнь', 24254)\n",
            "('мочь', 21324)\n",
            "('человек', 19236)\n",
            "('очень', 18423)\n",
            "('мой', 18111)\n",
            "('знать', 16712)\n",
            "('просто', 16200)\n",
            "('который', 14926)\n",
            "('свой', 14614)\n",
            "('..', 13568)\n"
          ],
          "name": "stdout"
        }
      ]
    },
    {
      "cell_type": "markdown",
      "metadata": {
        "id": "wFmWH6YrjXTg",
        "colab_type": "text"
      },
      "source": [
        "*Плохо, что сюда попали троеточие и двоеточие, поскольку выделились как отдельные токены, хотя, может, это говорит о чем-то*\n",
        "\n",
        "*Видны слова, которые я предполагала внести в список стоп-слов (\"это\", \"год\", \"очень\")*"
      ]
    },
    {
      "cell_type": "code",
      "metadata": {
        "id": "r6HidskvjGWM",
        "colab_type": "code",
        "colab": {
          "base_uri": "https://localhost:8080/",
          "height": 294
        },
        "outputId": "0dcec343-32be-4291-ca91-87738b48deb8"
      },
      "source": [
        "print('Для недепрессивных постов:')\n",
        "top15_nondepressive = sorted(freq_dict_nondepressive.items(), key=lambda x: x[1], reverse=True)[:15]\n",
        "for elem in top15_nondepressive:\n",
        "  print(elem)"
      ],
      "execution_count": 22,
      "outputs": [
        {
          "output_type": "stream",
          "text": [
            "Для недепрессивных постов:\n",
            "('год', 43943)\n",
            "('который', 26291)\n",
            "('это', 16813)\n",
            "('проект', 16652)\n",
            "('https', 16424)\n",
            "('новый', 15775)\n",
            "('свой', 15479)\n",
            "('наш', 15433)\n",
            "('день', 14845)\n",
            "('город', 14453)\n",
            "('работа', 14257)\n",
            "('апрель', 14053)\n",
            "('также', 13713)\n",
            "('первый', 13474)\n",
            "('россия', 13418)\n"
          ],
          "name": "stdout"
        }
      ]
    },
    {
      "cell_type": "code",
      "metadata": {
        "id": "HkUWyOiVjs9n",
        "colab_type": "code",
        "colab": {
          "base_uri": "https://localhost:8080/",
          "height": 34
        },
        "outputId": "521a2d26-81a3-4795-c6d4-aa6eb5d1c1fd"
      },
      "source": [
        "top15_depressive_lemmas = list(dict(top15_depressive).keys())\n",
        "top15_nondepressive_lemmas = dict(top15_nondepressive).keys()\n",
        "set(top15_depressive_lemmas).intersection(top15_nondepressive_lemmas)"
      ],
      "execution_count": 25,
      "outputs": [
        {
          "output_type": "execute_result",
          "data": {
            "text/plain": [
              "{'год', 'который', 'свой', 'это'}"
            ]
          },
          "metadata": {
            "tags": []
          },
          "execution_count": 25
        }
      ]
    },
    {
      "cell_type": "markdown",
      "metadata": {
        "id": "cipTfHWkl1id",
        "colab_type": "text"
      },
      "source": [
        "*Есть четыре общих леммы, которые, по сути, не имеют собственной семантики*"
      ]
    },
    {
      "cell_type": "markdown",
      "metadata": {
        "id": "AqfZJ4csRSxZ",
        "colab_type": "text"
      },
      "source": [
        "7. Какие текстовые признаки могли бы быть полезными для решения задачи классификации на этих данных? Приведите примеры и перечислите ресурсы, которые вы бы использовали для конструирования этих признаков."
      ]
    },
    {
      "cell_type": "markdown",
      "metadata": {
        "id": "W8oeksplnIQR",
        "colab_type": "text"
      },
      "source": [
        "*Мне кажется, можно придумать достаточно много бинарных признаков на наличие определенных лексических единиц в тексте поста. Например:*\n",
        "\n",
        "**наличие матерных слов** - *чтобы их обнаружить, достаточно выписать известные матерные слова в список и проверять на вхождение (я уверена, что есть какой-нибудь словарь для какой-нибудь жаргонной лексики)*\n",
        "\n",
        "**Наличие слов, имеющих резко негативную эмоциональную окраску** - *такие слова как \"плохо\", \"ужасно\", \"отвратительно\", \"смерть\" и т.д. Их, скорее всего, невозможно выписать вручную в какой-то список. Можно, например, просто на мешке слов обучить простой классификатор и посмотреть на важность слов, может быть, среди них будут похожие слова. Или отдельно обучить классификатор, который будет видеть такие слова-триггеры (может быть не для всех таких слов, а хотя бы для слов, которые подразумевают что-то относящееся к суециду)*\n",
        "\n",
        "*У меня есть предположение, что депрессивные посты имеют более художественный стиль, очень много описания, много прилагательных, причем достаточно экспрессивных, можно попробовать сделать как признак число прилагательных в посте, readability index. Также мы обнаружили, что в депрессивных постах очень часто используются троеточие, двоеточие, мне кажется, в этом есть некоторая тенденция, это тоже можно использовать*\n",
        "\n"
      ]
    }
  ]
}