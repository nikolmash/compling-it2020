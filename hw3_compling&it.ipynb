{
  "nbformat": 4,
  "nbformat_minor": 0,
  "metadata": {
    "colab": {
      "name": "hw3 compling&it.ipynb",
      "provenance": [],
      "toc_visible": true,
      "authorship_tag": "ABX9TyMzMZg9EkJK2v4eNeIhSMPn",
      "include_colab_link": true
    },
    "kernelspec": {
      "name": "python3",
      "display_name": "Python 3"
    }
  },
  "cells": [
    {
      "cell_type": "markdown",
      "metadata": {
        "id": "view-in-github",
        "colab_type": "text"
      },
      "source": [
        "<a href=\"https://colab.research.google.com/github/nikolmash/compling-it2020/blob/master/hw3_compling%26it.ipynb\" target=\"_parent\"><img src=\"https://colab.research.google.com/assets/colab-badge.svg\" alt=\"Open In Colab\"/></a>"
      ]
    },
    {
      "cell_type": "markdown",
      "metadata": {
        "id": "ze0E4KqwCEzc"
      },
      "source": [
        "# Загрузка данных\n",
        "\n"
      ]
    },
    {
      "cell_type": "markdown",
      "metadata": {
        "id": "X2-Gt9dsgS3y"
      },
      "source": [
        "Скачиваем и извлекаем из архива данные:"
      ]
    },
    {
      "cell_type": "code",
      "metadata": {
        "id": "-c_H61JTBrPk",
        "outputId": "541b5b8c-638c-4376-a71c-e5b3e54dca3d",
        "colab": {
          "base_uri": "https://localhost:8080/",
          "height": 208
        }
      },
      "source": [
        "!wget http://ai.stanford.edu/~amaas/data/sentiment/aclImdb_v1.tar.gz"
      ],
      "execution_count": 1,
      "outputs": [
        {
          "output_type": "stream",
          "text": [
            "--2020-10-18 18:41:37--  http://ai.stanford.edu/~amaas/data/sentiment/aclImdb_v1.tar.gz\n",
            "Resolving ai.stanford.edu (ai.stanford.edu)... 171.64.68.10\n",
            "Connecting to ai.stanford.edu (ai.stanford.edu)|171.64.68.10|:80... connected.\n",
            "HTTP request sent, awaiting response... 200 OK\n",
            "Length: 84125825 (80M) [application/x-gzip]\n",
            "Saving to: ‘aclImdb_v1.tar.gz’\n",
            "\n",
            "aclImdb_v1.tar.gz   100%[===================>]  80.23M  18.5MB/s    in 9.3s    \n",
            "\n",
            "2020-10-18 18:41:47 (8.61 MB/s) - ‘aclImdb_v1.tar.gz’ saved [84125825/84125825]\n",
            "\n"
          ],
          "name": "stdout"
        }
      ]
    },
    {
      "cell_type": "code",
      "metadata": {
        "id": "7xtEm1SpCPO7"
      },
      "source": [
        "!tar -xf aclImdb_v1.tar.gz"
      ],
      "execution_count": 2,
      "outputs": []
    },
    {
      "cell_type": "markdown",
      "metadata": {
        "id": "jaKjwqvWgX-s"
      },
      "source": [
        "Запишем текст в удобный формат pandas. Сразу извлекаем значения классов (1 и 0)"
      ]
    },
    {
      "cell_type": "code",
      "metadata": {
        "id": "BuEwZWXXDof8"
      },
      "source": [
        "import os\n",
        "import pandas as pd\n",
        "import numpy as np\n",
        " \n",
        "train_texts, test_texts = [],[]\n",
        "train_labels, test_labels = [],[]\n",
        "\n",
        "for file in os.listdir('aclImdb/train/pos'):\n",
        "  with open(os.path.join('aclImdb/train/pos', file)) as f:\n",
        "    t = f.read()\n",
        "    train_texts.append(t)\n",
        "    train_labels.append(1)\n",
        "for file in os.listdir('aclImdb/train/neg'):\n",
        "  with open(os.path.join('aclImdb/train/neg', file)) as f:\n",
        "    t = f.read()\n",
        "    train_texts.append(t)\n",
        "    train_labels.append(0)\n",
        "\n",
        "for file in os.listdir('aclImdb/test/pos'):\n",
        "  with open(os.path.join('aclImdb/test/pos', file)) as f:\n",
        "    t = f.read()\n",
        "    test_texts.append(t)\n",
        "    test_labels.append(1)\n",
        "for file in os.listdir('aclImdb/test/neg'):\n",
        "  with open(os.path.join('aclImdb/test/neg', file)) as f:\n",
        "    t = f.read()\n",
        "    test_texts.append(t)\n",
        "    test_labels.append(0)"
      ],
      "execution_count": 3,
      "outputs": []
    },
    {
      "cell_type": "code",
      "metadata": {
        "id": "ByRtJuKrHhNZ"
      },
      "source": [
        "train = pd.DataFrame({'text': train_texts, 'label': train_labels})\n",
        "test = pd.DataFrame({'text': test_texts, 'label': test_labels})"
      ],
      "execution_count": 4,
      "outputs": []
    },
    {
      "cell_type": "code",
      "metadata": {
        "id": "eB5vsl5UIT0b",
        "outputId": "fa818496-bf7e-4321-a9e1-72a0f35ed93c",
        "colab": {
          "base_uri": "https://localhost:8080/",
          "height": 202
        }
      },
      "source": [
        "train.head()"
      ],
      "execution_count": 5,
      "outputs": [
        {
          "output_type": "execute_result",
          "data": {
            "text/html": [
              "<div>\n",
              "<style scoped>\n",
              "    .dataframe tbody tr th:only-of-type {\n",
              "        vertical-align: middle;\n",
              "    }\n",
              "\n",
              "    .dataframe tbody tr th {\n",
              "        vertical-align: top;\n",
              "    }\n",
              "\n",
              "    .dataframe thead th {\n",
              "        text-align: right;\n",
              "    }\n",
              "</style>\n",
              "<table border=\"1\" class=\"dataframe\">\n",
              "  <thead>\n",
              "    <tr style=\"text-align: right;\">\n",
              "      <th></th>\n",
              "      <th>text</th>\n",
              "      <th>label</th>\n",
              "    </tr>\n",
              "  </thead>\n",
              "  <tbody>\n",
              "    <tr>\n",
              "      <th>0</th>\n",
              "      <td>Gundam Wing is a fun show. I appreciate it for...</td>\n",
              "      <td>1</td>\n",
              "    </tr>\n",
              "    <tr>\n",
              "      <th>1</th>\n",
              "      <td>This movie is horrible- in a 'so bad it's good...</td>\n",
              "      <td>1</td>\n",
              "    </tr>\n",
              "    <tr>\n",
              "      <th>2</th>\n",
              "      <td>I feel very sorry for people who go to movies ...</td>\n",
              "      <td>1</td>\n",
              "    </tr>\n",
              "    <tr>\n",
              "      <th>3</th>\n",
              "      <td>Recap: Zandalee is a young woman that feels mo...</td>\n",
              "      <td>1</td>\n",
              "    </tr>\n",
              "    <tr>\n",
              "      <th>4</th>\n",
              "      <td>Monstervision was a show I grew up with. From ...</td>\n",
              "      <td>1</td>\n",
              "    </tr>\n",
              "  </tbody>\n",
              "</table>\n",
              "</div>"
            ],
            "text/plain": [
              "                                                text  label\n",
              "0  Gundam Wing is a fun show. I appreciate it for...      1\n",
              "1  This movie is horrible- in a 'so bad it's good...      1\n",
              "2  I feel very sorry for people who go to movies ...      1\n",
              "3  Recap: Zandalee is a young woman that feels mo...      1\n",
              "4  Monstervision was a show I grew up with. From ...      1"
            ]
          },
          "metadata": {
            "tags": []
          },
          "execution_count": 5
        }
      ]
    },
    {
      "cell_type": "code",
      "metadata": {
        "id": "q1x828HSIVey",
        "outputId": "80b56ed3-eebd-4ceb-9b23-8e8b0312557d",
        "colab": {
          "base_uri": "https://localhost:8080/",
          "height": 202
        }
      },
      "source": [
        "test.head()"
      ],
      "execution_count": 6,
      "outputs": [
        {
          "output_type": "execute_result",
          "data": {
            "text/html": [
              "<div>\n",
              "<style scoped>\n",
              "    .dataframe tbody tr th:only-of-type {\n",
              "        vertical-align: middle;\n",
              "    }\n",
              "\n",
              "    .dataframe tbody tr th {\n",
              "        vertical-align: top;\n",
              "    }\n",
              "\n",
              "    .dataframe thead th {\n",
              "        text-align: right;\n",
              "    }\n",
              "</style>\n",
              "<table border=\"1\" class=\"dataframe\">\n",
              "  <thead>\n",
              "    <tr style=\"text-align: right;\">\n",
              "      <th></th>\n",
              "      <th>text</th>\n",
              "      <th>label</th>\n",
              "    </tr>\n",
              "  </thead>\n",
              "  <tbody>\n",
              "    <tr>\n",
              "      <th>0</th>\n",
              "      <td>The Commenter before me stated this movie is t...</td>\n",
              "      <td>1</td>\n",
              "    </tr>\n",
              "    <tr>\n",
              "      <th>1</th>\n",
              "      <td>Not a box office success; no-one really knows ...</td>\n",
              "      <td>1</td>\n",
              "    </tr>\n",
              "    <tr>\n",
              "      <th>2</th>\n",
              "      <td>I'm not sure what version of the film I saw, b...</td>\n",
              "      <td>1</td>\n",
              "    </tr>\n",
              "    <tr>\n",
              "      <th>3</th>\n",
              "      <td>It Came from Outer Space II is a very good fil...</td>\n",
              "      <td>1</td>\n",
              "    </tr>\n",
              "    <tr>\n",
              "      <th>4</th>\n",
              "      <td>If you like the excitement of a good submarine...</td>\n",
              "      <td>1</td>\n",
              "    </tr>\n",
              "  </tbody>\n",
              "</table>\n",
              "</div>"
            ],
            "text/plain": [
              "                                                text  label\n",
              "0  The Commenter before me stated this movie is t...      1\n",
              "1  Not a box office success; no-one really knows ...      1\n",
              "2  I'm not sure what version of the film I saw, b...      1\n",
              "3  It Came from Outer Space II is a very good fil...      1\n",
              "4  If you like the excitement of a good submarine...      1"
            ]
          },
          "metadata": {
            "tags": []
          },
          "execution_count": 6
        }
      ]
    },
    {
      "cell_type": "markdown",
      "metadata": {
        "id": "VJvveb05BONT"
      },
      "source": [
        "# Предобработка\n"
      ]
    },
    {
      "cell_type": "code",
      "metadata": {
        "id": "5cQiqwCqBbdv"
      },
      "source": [
        "import re\n",
        "import nltk\n",
        "import spacy\n",
        "from string import punctuation\n",
        "from nltk.corpus import stopwords\n",
        "from nltk.stem import WordNetLemmatizer\n",
        "from sklearn.feature_extraction.text import TfidfVectorizer"
      ],
      "execution_count": 13,
      "outputs": []
    },
    {
      "cell_type": "markdown",
      "metadata": {
        "id": "F9s1zP9Pgltn"
      },
      "source": [
        "Загружаем и создаем необходимые для предобработки сущности:"
      ]
    },
    {
      "cell_type": "code",
      "metadata": {
        "id": "2tIBHNwkBtSO",
        "outputId": "28f9d3f3-9945-4fd2-cab0-695dc1b85fb8",
        "colab": {
          "base_uri": "https://localhost:8080/",
          "height": 86
        }
      },
      "source": [
        "nlp = spacy.load(\"en_core_web_sm\")\n",
        "nltk.download('stopwords')\n",
        "nltk.download('wordnet')\n",
        "stopwords = stopwords.words('english')\n",
        "punkt = punctuation + '«»—…“”*№–'\n",
        "lemmatizer = WordNetLemmatizer()"
      ],
      "execution_count": 8,
      "outputs": [
        {
          "output_type": "stream",
          "text": [
            "[nltk_data] Downloading package stopwords to /root/nltk_data...\n",
            "[nltk_data]   Unzipping corpora/stopwords.zip.\n",
            "[nltk_data] Downloading package wordnet to /root/nltk_data...\n",
            "[nltk_data]   Unzipping corpora/wordnet.zip.\n"
          ],
          "name": "stdout"
        }
      ]
    },
    {
      "cell_type": "markdown",
      "metadata": {
        "id": "TMi7r9f0gwOM"
      },
      "source": [
        "Напишем функцию препроцессинга, где:\n",
        "\n",
        "- параметр lemmatizing отвечает за наличие или отсутствие лемматизации\n",
        "- удаляются имейлы, html-теги и url, если они есть\n",
        "- происходит токенизация\n",
        "- удаляются знаки препинания\n",
        "- удаляются стоп-слова\n",
        "- все приводится к нижнему регистру"
      ]
    },
    {
      "cell_type": "code",
      "metadata": {
        "id": "OGkPN3Q1B0Fa"
      },
      "source": [
        "def preprocessing(text, lemmatizing) -> str:\n",
        "  url_pattern = re.compile(r'((http|https)\\:\\/\\/)?[a-zA-Z0-9\\.\\/\\?\\:@\\-_=#]+\\.([a-zA-Z]){2,6}([a-zA-Z0-9\\.\\&\\/\\?\\:@\\-_=#])*')\n",
        "  email_pattern = re.compile(r'[\\w.-]+@[\\w.-]+.\\w+')\n",
        "  html_pattern = re.compile(r'<.*?>')\n",
        "  for pattern in (url_pattern, email_pattern, html_pattern):\n",
        "    text = pattern.sub('', text)\n",
        "  doc = nlp(text)\n",
        "  #токенизируем, убираем стоп-слова и пунктуацию\n",
        "  tokens = [token.text.lower() for token in doc if token.text.lower() not in stopwords and token.text.lower() not in punkt]\n",
        "  if lemmatizing == True:\n",
        "    lemmas = [lemmatizer.lemmatize(word) for word in tokens]\n",
        "    clean_text = ' '.join([word for word in lemmas if re.match(r'\\W+', word) is None])\n",
        "  else:\n",
        "    clean_text = ' '.join([word for word in tokens if re.match(r'\\W+', word) is None])\n",
        "  return clean_text"
      ],
      "execution_count": 9,
      "outputs": []
    },
    {
      "cell_type": "markdown",
      "metadata": {
        "id": "0Oyw6tGAhIH4"
      },
      "source": [
        "Я отдельно сохраню лемматизированные и нелемматизированные обработанные тексты. Заодно проверим, как это влияет на качество классификации"
      ]
    },
    {
      "cell_type": "code",
      "metadata": {
        "id": "UNbhwx9sCnpN"
      },
      "source": [
        "train_lemmatized = train['text'].apply(lambda x: preprocessing(x, True))\n",
        "train_preprocessed = train['text'].apply(lambda x: preprocessing(x, False))\n",
        "test_lemmatized = test['text'].apply(lambda x: preprocessing(x, True))\n",
        "test_preprocessed = test['text'].apply(lambda x: preprocessing(x, True))"
      ],
      "execution_count": 10,
      "outputs": []
    },
    {
      "cell_type": "markdown",
      "metadata": {
        "id": "vQEeGXpZhR2Z"
      },
      "source": [
        "Векторизуем коллекцию документов в TF-IDF матрицу\n",
        "\n",
        "Для двух видов предобработанных данных - два отдельных векторизатора"
      ]
    },
    {
      "cell_type": "code",
      "metadata": {
        "id": "infA3C-JTxHK"
      },
      "source": [
        "vec = TfidfVectorizer()\n",
        "X_train_lemmatized = vec.fit_transform(train_lemmatized)\n",
        "X_test_lemmatized = vec.transform(test_lemmatized)"
      ],
      "execution_count": 14,
      "outputs": []
    },
    {
      "cell_type": "code",
      "metadata": {
        "id": "FCkO4kNBUPxS"
      },
      "source": [
        "vec = TfidfVectorizer()\n",
        "X_train_preprocessed = vec.fit_transform(train_preprocessed)\n",
        "X_test_preprocessed = vec.transform(test_preprocessed)"
      ],
      "execution_count": 15,
      "outputs": []
    },
    {
      "cell_type": "markdown",
      "metadata": {
        "id": "DiAbDnCWDKDN"
      },
      "source": [
        "# Оценка классификатора"
      ]
    },
    {
      "cell_type": "markdown",
      "metadata": {
        "id": "8pwttdsyhfsP"
      },
      "source": [
        "Я выбрала для этого задания классификатор Наивный Байес\n",
        "\n",
        "Обучаем и оцениваем для лемматизированных данных:"
      ]
    },
    {
      "cell_type": "code",
      "metadata": {
        "id": "6cuM9CgjDIfd"
      },
      "source": [
        "from sklearn.naive_bayes import MultinomialNB\n",
        "from sklearn.metrics import classification_report, roc_auc_score, roc_curve\n",
        "\n",
        "clf1 = MultinomialNB().fit(X_train_lemmatized, train_labels)\n",
        "predicted_lemmatized = clf1.predict(X_test_lemmatized)"
      ],
      "execution_count": 76,
      "outputs": []
    },
    {
      "cell_type": "code",
      "metadata": {
        "id": "6ZsZF_0fU-lg",
        "outputId": "c275e29a-219a-4526-a664-7c30075971ff",
        "colab": {
          "base_uri": "https://localhost:8080/",
          "height": 208
        }
      },
      "source": [
        "print('Метрики качества классификатора на лемматизированных данных')\n",
        "print(classification_report(test_labels, predicted_lemmatized))\n",
        "print('Значение ROC-AUC: ', roc_auc_score(test_labels, predicted_lemmatized))"
      ],
      "execution_count": 78,
      "outputs": [
        {
          "output_type": "stream",
          "text": [
            "Метрики качества классификатора на лемматизированных данных\n",
            "              precision    recall  f1-score   support\n",
            "\n",
            "           0       0.80      0.88      0.84     12500\n",
            "           1       0.86      0.79      0.82     12500\n",
            "\n",
            "    accuracy                           0.83     25000\n",
            "   macro avg       0.83      0.83      0.83     25000\n",
            "weighted avg       0.83      0.83      0.83     25000\n",
            "\n",
            "Значение ROC-AUC:  0.8312400000000001\n"
          ],
          "name": "stdout"
        }
      ]
    },
    {
      "cell_type": "markdown",
      "metadata": {
        "id": "0799M-fghsCS"
      },
      "source": [
        "Качество достаточно хорошее для такого простого (наивного :)))) подхода"
      ]
    },
    {
      "cell_type": "code",
      "metadata": {
        "id": "MpWfGWVCWYIN",
        "outputId": "08e2e5df-4084-4105-a16d-16bcd4dd46ec",
        "colab": {
          "base_uri": "https://localhost:8080/",
          "height": 294
        }
      },
      "source": [
        "import matplotlib.pyplot as plt\n",
        "\n",
        "probs_lem = clf1.predict_proba(X_test_lemmatized)[:,1]\n",
        "fpr, tpr, threshold = roc_curve(test_labels, probs_lem)\n",
        "\n",
        "plt.title('ROC-AUC кривая классификатора для лемматизированных данных')\n",
        "plt.plot(fpr, tpr, 'b')\n",
        "plt.ylabel('True Positive Rate')\n",
        "plt.xlabel('False Positive Rate')\n",
        "plt.show()"
      ],
      "execution_count": 79,
      "outputs": [
        {
          "output_type": "display_data",
          "data": {
            "image/png": "[encoded data removed]",
            "text/plain": [
              "<Figure size 432x288 with 1 Axes>"
            ]
          },
          "metadata": {
            "tags": [],
            "needs_background": "light"
          }
        }
      ]
    },
    {
      "cell_type": "markdown",
      "metadata": {
        "id": "GHGwc_dxh0o3"
      },
      "source": [
        "Обучаем и оцениваем классификатор на нелемматизированных данных:"
      ]
    },
    {
      "cell_type": "code",
      "metadata": {
        "id": "PBEylF5xVpOf"
      },
      "source": [
        "clf2 = MultinomialNB().fit(X_train_preprocessed, train_labels)\n",
        "predicted_preprocessed = clf2.predict(X_test_preprocessed)"
      ],
      "execution_count": 80,
      "outputs": []
    },
    {
      "cell_type": "code",
      "metadata": {
        "id": "Z0D3PnyWV0eY",
        "outputId": "98bed9e2-df09-4eba-dfb6-773a555fd71e",
        "colab": {
          "base_uri": "https://localhost:8080/",
          "height": 208
        }
      },
      "source": [
        "print('Метрики качества классификатора на нелемматизированных данных')\n",
        "print(classification_report(test_labels, predicted_preprocessed))\n",
        "print('Значение ROC-AUC: ', roc_auc_score(test_labels, predicted_preprocessed))"
      ],
      "execution_count": 81,
      "outputs": [
        {
          "output_type": "stream",
          "text": [
            "Метрики качества классификатора на нелемматизированных данных\n",
            "              precision    recall  f1-score   support\n",
            "\n",
            "           0       0.78      0.89      0.84     12500\n",
            "           1       0.88      0.75      0.81     12500\n",
            "\n",
            "    accuracy                           0.82     25000\n",
            "   macro avg       0.83      0.82      0.82     25000\n",
            "weighted avg       0.83      0.82      0.82     25000\n",
            "\n",
            "Значение ROC-AUC:  0.82428\n"
          ],
          "name": "stdout"
        }
      ]
    },
    {
      "cell_type": "markdown",
      "metadata": {
        "id": "_FwjL2nth_uf"
      },
      "source": [
        "Значения метрик уменьшились всего лишь на одну сотую. Значит, лемматизация не имеет ключевую роль при оценке тональности (однако и одна сотая может в зависимости от цели может дать очень многое!). Значение ROC-AUC отличается даже меньше, чем на сотую.\n",
        "\n",
        "Можно заметить, что на нелемматизированных данных классификатор хуже обнаруживает тексты с меткой 0 (негативные)"
      ]
    },
    {
      "cell_type": "code",
      "metadata": {
        "id": "-9Yi9O3gYHeN",
        "outputId": "8efbad7c-3bbc-437f-b18b-53af1e1837e5",
        "colab": {
          "base_uri": "https://localhost:8080/",
          "height": 294
        }
      },
      "source": [
        "import matplotlib.pyplot as plt\n",
        "\n",
        "probs_prep = clf2.predict_proba(X_test_preprocessed)[:,1]\n",
        "fpr, tpr, threshold = roc_curve(test_labels, probs_prep)\n",
        "\n",
        "plt.title('ROC-AUC кривая классификатора для нелемматизированных данных')\n",
        "plt.plot(fpr, tpr, 'g')\n",
        "plt.ylabel('True Positive Rate')\n",
        "plt.xlabel('False Positive Rate')\n",
        "plt.show()"
      ],
      "execution_count": 82,
      "outputs": [
        {
          "output_type": "display_data",
          "data": {
            "image/png": "[encoded data removed]",
            "text/plain": [
              "<Figure size 432x288 with 1 Axes>"
            ]
          },
          "metadata": {
            "tags": [],
            "needs_background": "light"
          }
        }
      ]
    },
    {
      "cell_type": "markdown",
      "metadata": {
        "id": "nQGedFpCYhyR"
      },
      "source": [
        "# Топ-15 рецензий"
      ]
    },
    {
      "cell_type": "markdown",
      "metadata": {
        "id": "47vJjB_LibuW"
      },
      "source": [
        "Я выведу топ-15 негативных и позитивных рецензий, основываясь на классификаторе, обученном на лемматизированных данных. \n",
        "\n",
        "Мы выяснили, что он немножко лучше, и в целом, скорее всего, этот топ-15 не будет значительно отличаться."
      ]
    },
    {
      "cell_type": "code",
      "metadata": {
        "id": "icEVMTbrYlRM"
      },
      "source": [
        "import numpy as np \n",
        "\n",
        "sort_args = np.argsort(probs_lem)\n",
        "top_negative = test['text'].loc[sort_args[:15]]\n",
        "top_positive = test['text'].loc[sort_args[::-1][:15]]"
      ],
      "execution_count": 53,
      "outputs": []
    },
    {
      "cell_type": "markdown",
      "metadata": {
        "id": "KBhhpHJCisEP"
      },
      "source": [
        "Топ-15 самых позитивных рецензий:"
      ]
    },
    {
      "cell_type": "code",
      "metadata": {
        "id": "UNmHXC4yY4Fm",
        "outputId": "cdbcd4d2-a65b-423d-b060-8fcea5005e5a",
        "colab": {
          "base_uri": "https://localhost:8080/",
          "height": 817
        }
      },
      "source": [
        "for text in top_positive.values:\n",
        "  print(text)\n",
        "  print('\\n')"
      ],
      "execution_count": 56,
      "outputs": [
        {
          "output_type": "stream",
          "text": [
            "We all want to fall in love... The experience makes us feel completely alive, where every sense is heightened, every emotion is magnified... It may only last a moment, an hour, an afternoon, but that doesn't reduce its value, because we are left with memories that we treasure for the rest of our lives...<br /><br />I love watching people fall in love... It must have something to do with the excellent chemistry between the main characters...<br /><br />Mark Elliott, a charming sensitive American war correspondent, arrives in Hong Kong at the dawn of the Korean war... He finds in Han Suyin an awesome beauty of true grace...<br /><br />Han Suyin, a lovely Eurasian doctor is captivated by Mark's tenderness and insight...<br /><br />It was instant attraction when they first met... The two commence a passionate affair, leading them to fall deeply in love...<br /><br />Their love is so strong, so wonderfully expressed that highlights Elliot's married status, and the difficulties of the troubled time of the Korean War, communism and race relations... <br /><br />Holden is an inspired choice for the role... Not only does he have an imposing screen presence, but he brings the perfect mix of enlightenment, compassion and emotion to the part...<br /><br />Opposite him Oscar Winner Jennifer Jones, perfect in her oriental look, radiantly beautiful in that traditional and modern Asian-inspired Cheongsam... Jones floods her role with personal emotion giving her character a charismatic life of its own... She delivers a heartfelt performance turning her character into a woman who undergoes a spiritual and emotional awakening...<br /><br />Her scene in that verdant hill where she takes refuge is exquisitely touching specially when we heard Mark's voice whispering: \"We have not missed you and I... that many-splendored thing.\"<br /><br />Henry King - who has established himself as a masterful director of romances - spreads the theme tune (by Alfred Newman) in the air above the cosmopolitan harbor... His film is colorful, elegant, with excellent cinematography and set design...<br /><br />Nominated for eight Academy Awards, this beautiful and sensitive motion picture won three: Best Costume Design; Best Music and Best Score...\n",
            "\n",
            "\n",
            "We have moved far beyond this tentative foray into a forbidden area-drug addiction-for the 1950s. As such, the film may seem dated. The Man with the Golden Arm served its function is peeling back a layer of the underside of society, an eye-opener to a Southern country boy in 1955 when I first viewed this film in the theater. After some serious consideration about being too young, I was allowed to go. It was powerful and affecting then and still maintains some sharp, painful moments of the soul stripped naked. As a movie depicting the loneliness at the core of being, it succeeds.<br /><br />Filled with angst, Frank Sinatra, in his best role, creates a vulnerability that makes him sympathetic to the viewer. He conveys his helplessness and ineffectualness in a beautifully restrained performance. As a voice of common sense in the dead-end urban jungle, Kim Novak as Molly is quite good. She is compassionate and yet stands on solid ground. The interaction between Sinatra and Novak is really good. Darren McGavin plays a slimy character and does it very well. Eleanor Parker is superbly irritating and painfully insecure in her role of the pathetic Zosch, the crippled wife of Sinatra. Arnold Stang is another unlikely survivor of the street. Regarded as pitiful and despicable, his character Sparrow provides tart comedic moments. <br /><br />The music is almost the star of this film-brooding, frenetic, moody, poignant. Elmer Bernstein's score perfectly accentuates the tensions of Frankie Machine's spiritual weakness and physical need for heroin. Molly's theme is bittersweet and captures aurally what the film depicts visually. I know of no other soundtrack that effectively complements the tension and defeat within a man as effectively as does this one.\n",
            "\n",
            "\n",
            "Easily one of my favourite dramatic TV films, in many ways beautiful yet sad, heart-warming and thought-provoking, this is a superb dramatisation of a few years in the life of C.S. Lewis and his relationship with Joy Davidman. I found it to be incredibly absorbing with excellent and 'realistic' dialogue and situations. It all seemed very 'real', yet there were also 'magical' moments that almost leave you breathless with delight. Ackland and Bloom as the central characters were excellent, as were the supporting cast. It's one of those dramas that I find hard to criticise, simply because, for me, there is NOTHING to be criticised, it just works so well on so many levels.<br /><br />Very highly recommended.\n",
            "\n",
            "\n",
            "Although I'm not crazy about musicals, COVER GIRL is a delight for classic movie buffs and especially for fans of Rita Hayworth and Gene Kelly. The film may be dated by today's standards and the story and songs may be nothing special, but the musical numbers are magnificently staged and there's a terrific cast to go with the film. Plus, the film is a worthy introduction for fans of Rita Hayworth...she's simply breathtaking in glorious Technicolor.<br /><br />Despite Jerome Kern's collaboration with the film, his music here is nowhere near as special or memorable as his songs in SWING TIME (1936), yet the songs serve the film well. The dancing is nothing short of excellent, especially coming from Gene Kelly's solo number and my favorite musical number, \"Alter-Ego Dance.\" The amusing Phil Silvers nearly steals the film as Kelly's partner. Otto Kruger, Eve Arden, and Edward Brophy give good performances in their dramatic supporting roles. And Rita plays a sweet, charming girl here; a role that's a far cry from her femme fatale babes in films like BLOOD AND SAND (1941).<br /><br />All in all, this is a delightful film that's worth watching even if you're not big on musicals. Yet the film's music could have been more memorable if only my favorite period songwriters, Irving Berlin or Cole Porter, wrote the songs for this film. However, it's the glorious Technicolor cinematography and the imaginative dancing that are the real treats of the film's production.<br /><br />While I was watching Rita Hayworth do her stuff, I don't think I've ever seen a more beautiful or graceful redhead dance on the screen since I saw Moira Shearer in Michael Powell's masterpiece, THE RED SHOES (1948). Just watch Rita in COVER GIRL and fall in love with her.\n",
            "\n",
            "\n",
            "After working on 7 movies with director Mickael Curtiz (The Adventures of Robin Hood are their best achievement), Errol Flynn got tired of his dictatorial direction and decided to work with the great Raoul Walsh. This reunion is a happy thing for cinematography. THE DIED WITH THEIR BOOTS ON is their first and best film together. Raoul Walsh portrays the General George Armstrong Custer (Errol Flynn) from his debuts at West Point, to the Civil War and finally at the battle of Little Big Horn. It's true the film shows a too heroic portrait of Custer, but that's not important. What is important, is the fact that we are transported with the passion and glory carried by the characters. Who can forget California Joe, the great \"Queen's Own Buttler\" with his song \"Garryowen\", the touching Mrs Custer (Olivia de Havilland), the diabolic Sharp well played by Arthur Kennedy ?<br /><br />An eternal blow remains on this epic and tragic freso.\n",
            "\n",
            "\n",
            "It's rare for a film to sweep you away within its world and leave you wanting more once the credits roll. Hayao Miyazaki's Ponyo is such a film.<br /><br />The film is the story of a young goldfish named Ponyo who wishes to become human. She swims to shore and is found by a young boy named Sasuke who promises to take care of her. Course Ponyo's father, an ecologically obsessed sorcerer named Fujimoto, tries to keep Ponyo from becoming human in order to maintain the balance of nature, which is eventually upturned when Ponyo finally transforms into a little girl, causing a massive typhoon.<br /><br />Ponyo is a very rich film. It is full of wondrous fantasy, lovable characters, and genuine heart. What director Hayao Miyazaki has done here is tell a simple little story, and while so doing creating authentic movie magic.<br /><br />Ponyo is an enchanting experience. The love between Sasuke and Ponyo is very pure and true. As well the environmentalist within Miyazaki is still as evident within this film as in all his previous works. Miyazaki shows the filth and grime that fall into the ocean in an almost startling light, not to mention Ponyo's father is on an obsessive mission to clean the world's oceans. While the story is simple, Miyazaki manages to add this extra layer to provoke thought with expert proficiency.<br /><br />The film is a beautiful work of art, each hand drawn cell looks like a wondrous pastel painting. The film looks very different than many other Studio Ghibli productions, but the artistry is still just as spectacular as ever before. The scenes underwater are simply beautiful to watch, Fujimoto's fortress under the sea is highly inventive, and the sequence where Ponyo runs across the jumping fish within the typhoon to reach Sosuke is iconic.<br /><br />Course it is thanks to its wonderfully executed characters that makes this film such a memorable experience. Sosuke is a young boy who acts older than he actually is, and the energetic Ponyo is a laugh a minute. Every character is just so enjoyable and highly memorable.<br /><br />Overall Ponyo is a wondrous experience, enchanting in every single way. While the film may be sold as a children's fairy tale, I believe many adults will be swept away within its fantastic world along with their children. While the film may lack the density of some of Miyazaki's previous works, here he keeps it pure and simple, being true to himself, delivering a film that is funny, heartwarming, and entertaining all in one. This is a magnificent film.<br /><br />I give Ponyo a perfect 10 out of 10!\n",
            "\n",
            "\n",
            "I think that New York Times film critic Elvis Mitchell wrote the best one line review of In the Mood for Love when he said that it is \"dizzy with a romantic spirit that's been missing from the cinema forever.\" How true those words are! Truly romantic films are so rare these days, while films that include plenty of sex and nudity (which are often portrayed in a smutty and gratuitous manner) abound. So, given this cinematic climate, Wong Kar-wai's latest film feels like a much needed breath of fresh air. In the Mood for Love is about the doomed romance between two neighbors (\"Mr. Chow,\" played by Tony Leung and \"Mrs. Chan,\" played by Maggie Cheung), whose spouses are having an illicit affair, as they try \"not to be like them.\" But after hanging out with each other on lonely nights (while their spouses are away \"on business\"/\"taking care of a sick mother\"), they fall madly in love, and must resist the temptation of going too far.<br /><br />Several factors are responsible for making In the Mood for Love a new classic among \"romantic melodramas,\" in the best sense of that term. First, the specific period of the film (i.e. 1960's Hong Kong) is faithfully recreated to an astonishing degree of detail. The clothes (including Maggie Cheung's lovely dresses), the music (e.g. Nat King Cole), and the overall atmosphere of this film evokes a nostalgia for that specific period. Second, Christopher Doyle's award-winning, breathtakingly beautiful cinematography creates an environment which not only envelopes its two main characters, but seems to ooze with romantic longing in every one of its sumptuous, meticulously composed frame. Make no mistake about it: In the Mood for Love was the most gorgeous film of 2001. (It should also be mentioned that Wong Kar-wai's usual hyper-kinetic visual style is (understandably) toned down for this film, although his pallet remain just as colorful.) Third, there is the haunting score by Michael Galasso, which is accompanied by slow motion sequences of, e.g. Chan walking in her elegant dresses, Chan and Chow \"glancing\" at each other as they pass one another on the stairs, and other beautiful scenes which etch themselves into one's memory. The main score--which makes its instruments sound as though they're literally crying--is heard eight times throughout various points in the film and it serves to highlight the sadness and the longing which the two main characters feel. Fourth, Tony Leung and Maggie Cheung both deliver wonderful performances (Leung won the prize for best actor at Cannes) and they manage to generate real chemistry on screen.<br /><br />The above elements coalesce and work so nicely together to create a film that feels timeless, \"dizzyingly romantic,\" and, in a word, magical. In the Mood for Love, perhaps more than any other film of 2001, reminded me why it is that I love \"going to the movies.\" And I guess that is about the highest compliment that I can pay to a film.<br /><br />\n",
            "\n",
            "\n",
            "Moving beyond words is this heart breaking story of a divorce which results in a tragic custody battle over a seven year old boy.<br /><br />One of \"Kramer v. Kramer's\" great strengths is its screenwriter director Robert Benton, who has marvellously adapted Avery Corman's novel to the big screen. He keeps things beautifully simple and most realistic, while delivering all the drama straight from the heart. His talent for telling emotional tales like this was to prove itself again with \"Places in the Heart\", where he showed, as in \"Kramer v. Kramer\", that he has a natural ability for working with children.<br /><br />The picture's other strong point is the splendid acting which deservedly received four of the film's nine Academy Award nominations, two of them walking away winners. One of those was Dustin Hoffman (Best Actor), who is superb as frustrated business man Ted Kramer, a man who has forgotten that his wife is a person. As said wife Joanne, Meryl Streep claimed the supporting actress Oscar for a strong, sensitive portrayal of a woman who had lost herself in eight years of marriage. Also nominated was Jane Alexander for her fantastic turn as the Kramer's good friend Margaret. Final word in the acting stakes must go to young Justin Henry, whose incredibly moving performance will find you choking back tears again and again, and a thoroughly deserved Oscar nomination came his way.<br /><br />Brilliant also is Nestor Almendros' cinematography and Jerry Greenberg's timely editing, while musically Henry Purcell's classical piece is used to effect.<br /><br />Truly this is a touching story of how a father and son come to depend on each other when their wife and mother leaves. They grow together, come to know each other and form an entirely new and wonderful relationship. Ted finds himself with new responsibilities and a new outlook on life, and slowly comes to realise why Joanne had to go.<br /><br />Certainly if nothing else, \"Kramer v. Kramer\" demonstrates that nobody wins when it comes to a custody battle over a young child, especially not the child himself.<br /><br />Saturday, June 10, 1995 - T.V.<br /><br />Strong drama from Avery Corman's novel about the heartache of a custody battle between estranged parents who both feel they have the child's best interests at heart. Aside from a superb screenplay and amazingly controlled direction, both from Robert Benton, it's the superlative cast that make this picture such a winner.<br /><br />Hoffman is brilliant as Ted Kramer, the man torn between his toppling career and the son whom he desperately wants to keep. Excellent too is Streep as the woman lost in eight years of marriage who had to get out before she faded to nothing as a person. In support of these two is a very strong Jane Alexander as mutual friend Margaret, an outstanding Justin Henry as the boy caught in the middle, and a top cast of extras.<br /><br />This highly emotional, heart rending drama more than deserved it's 1979 Academy Awards for best film, best actor (Hoffman) and best supporting actress (Streep).<br /><br />Wednesday, February 28, 1996 - T.V.\n",
            "\n",
            "\n",
            "This has got to be one of the better post-Astaire musicals made by Columbia. Produced by Arthur Schwartz and directed by vet Charles Vidor, this picture really put Gene Kelly on the map and cemented Rita Hayworth's reputation as cinema's premier female dance partner. She plays a bit of a dual role here since she performs contemporary 1940s numbers with Gene and co-star Phil Silvers, but also puts her in the role of her grandmother, a nightclub performer in the late 19th Centry.<br /><br />The music should also be singled out because this was I believe the last project that the legendary Jerome Kern (most famous today for \"Old Man River\" and \"Smoke Gets in Your Eyes\") worked on, and his lyricist was the equally legendary Ira Gershwin. They supplied a score that is full of charm and characterization. The music for the historical sequences is especially noteworthy because it's so perfectly styled in the early 20th Century idiom that was Kern's original period. It's a bit like picking up a record from one of your favorite bands from the 1970s and hearing them do a song in the original style of that time.<br /><br />The story is pretty inconsequential, which is fine with me because this film is as close an approximation as you will ever be likely to see of the 1930s/40s golden age of Broadway musical comedy style on film. Even the 1940s war propaganda aspects of the film's music give it extra charm as the talented trio sing \"make way for tomorrow\" and even humorously poke fun at America's enemies and use period slang such as referring to \"gremlins\".<br /><br />Probably the most memorable performance in the film is Kelly's dance to the \"Alter-Ego Dance\", which found him arguing with and then dancing with himself as a metaphorical image of the battle of the conscience. This prefigures much of his later work and also stands an effective and memorable scene in and of itself.<br /><br />Fans will want to seek this out for various reasons -- Kelly fans will see this as a rare chance to see him outside of the confines of MGM with a different set of co-stars and music superior to his usual MGM material. Hayworth fans will want to see Rita in glorious color at the peak of her fame and ability. And fans of classic Broadway musicals will definitely want to hear Kern's final score and marvel at the quality of Gershwin's lyrics and the compatibility of their styles. This is a definite gem in the crown of Columbia's musical program.\n",
            "\n",
            "\n",
            "Well.....I wouldn't want to lecture anybody but I do feel the urge to say some things I consider important about this BEAUTIFUL film. I saw it for the first time in 1976 (I was 14) and then one more time a year later. That was it. The rest of it was the pink LP of Elton John's soundtrack getting the music and the story deeper and deeper inside my heart. How deep? A week ago my cousin gave me a VHS copy as a present. (No DVD's yet). Boy....was I surprised!! Poets have always sustained that deep childhood and adolescent experiences of beauty, love, God, idealist pursuits, stay with you forever. Since they occur mostly at the heart's level (no intellect yet!), they define your soul's contours like a sculptor would do with a stone. If sometimes we didn't tend to forget how right they are perhaps we would do better in understanding the meaning of every minute, of every decision, of every turning point of our lives. <br /><br />So, I confess I feel nostalgia. But the fascinating part of this is watching the film again, and through this trip back in time, enriching that understanding of why we, people from the 60's, grew up as we did. The spirit of those times is all here: a Genesis created far from the official world of consuming and economic success, make love not war, the beautiful pop ballads, the poetry of the lyrics, a totally romantic view of adolescent rebellion with the awakening of sexuality carefully wrapped in tender and chaste love, these two lonely spirits still full of childhood innocence growing together as they learn mutual commitment and turning into \"adults\". <br /><br />I showed the film to a group of school youngsters and they abounded with such simplistic and cynical comments regarding it as naïve and foolish. Guys, be serious!! Cinema is an art and as art it reflects not only human emotions but historical moments. And this is exactly what \"Friends\" does in a masterly way. It reflects an idyllic idea of rebellion and new beginning we all dreamt about when we were 15. I'm now a musician and I feel some of us, artists for that matter, still dream about it!! How else could we live? That's \"Friends\", that's \"Brother Sun Sister Moon\", that's \"Hair\". Those were the times, still alien to AIDS, alien to explicit and vulgar texts in pop songs with no melody, to pornography presented as \"sexuality\", to this barbaric new \"world order\" growing after September 11th. <br /><br />What a heart warming experience to see Paul and Michelle again, timidly and tenderly exploring the new fantasies of their romantic world. What a trip back to the very core of our hearts: to Paris, to Elton John at his best, to that urban scenario surrounded by 2 CV Citroëns and the VW Beetles. What a fresh air from the peaceful cottage in Camargue, surrounded by fishing ponds and wild horses. They made us who we are, as did Serrat in Spain, Brel in France, Peter Paul and Mary, Joan Baez, Luther King, the Beatles, the early Bee Gees, Belafonte's Spirituals, Gandhi, the Gospel of Elvis. <br /><br />People still hoping: get this picture. Start with innocence and grow from there. You'll find out what it's all about. And from there you'll have a solid and more truthful foundation; some ideals to look for in life, a way to handle personal and world affairs. We need so much of this today! Give yourselves the chance and maybe someday the time of cynics will end. (I have an extra VHS copy)<br /><br />Santiago Zuleta. Bogotá, Colombia.\n",
            "\n",
            "\n",
            "\"Out to Sea\" is a fun movie starring that wonderful duo of Jack Lemmon and Walter Matthau. This film is not quite as funny as their \"Grumpy Old Men\" comedies (which it strongly resembles), but there are many laughs throughout. Lemmon and Matthau play a couple of in-laws who take a cruise together. Once they get on the boat, the thing Lemmon doesn't know is that Matthau has signed them on as dance hosts so they don't have to pay for the cruise. This infuriates Lemmon who's in no mood to dance. What's worse, Matthau doesn't even know how to dance. Nevertheless, they go along with it and it the process they meet some of their fellow passengers and crew members. Here are the crew members: there's the cruise director Gil Godwyn, played to the hilt by \"Star Trek: The Next Generation\" veteran Brent Spiner, who acts like an evil dictator. There's two fellow dance hosts, played by \"Barney Miller\" star Hal Linden and veteran movie musical star Donald O'Connor. There's the ship's owner Mrs. Carruthers, played by \"Golden Girl\" Rue McClanahan. As for the passengers: there's Vivian, a widow played by Gloria De Haven, who falls in love with Lemmon. There's Liz, played by one of my all-time favorite actresses, Dyan Cannon, who falls in love with Matthau. There's Mavis, Liz's mother, played by veteran stage actress Elaine Stritch. And they meet others as well. All these actors are a pleasure to watch as Lemmon and Matthau play off of them. It's great to see Cannon here, see's beautiful as ever; Stritch is a hoot; Spiner is a funny comic villain who's plays it deadly straight; De Haven is wonderful; Linden, O'Connor, and McClanahan have a good moment or two; and finally, the two main stars, Lemmon and Matthau, are fine as usual. A nice little gem of a comedy.<br /><br />*** (out of four)\n",
            "\n",
            "\n",
            "In Dublin, the crippled rebel Rory O'Shea (James McAvoy) moves to the Carrigmore Residential Home for the Disabled, affecting the lives of the residents. Roy is able to understand the unintelligible speech of Michael Connolly (Steven Robertson), who was left in the shelter by his prominent father many years ago due to his cerebral palsy, and they become close friends. Rory convinces Michael to move from Carrigmore to an apartment in Dublin, and they hire the gorgeous Siobhan (Romola Garai) to assist them. Living together with Rory, Michael faces a new world, finding friendship, love and freedom and learning to survive by his own. <br /><br />\"Inside I'm Dancing\" is a wonderful tale of friendship and freedom in a very beautiful story. The acting of Steven Robertson and James McAvoy are awesome and I do not understand how they have not been nominated to the Oscar with such magnificent performances. Romola Garai has also a top-notch performance and is extremely beautiful and sexy. The screenplay is touching, never corny and without redemption and the precise direction of Damien O'Donnell is very sensitive. Unfortunately the Brazilian title of the DVD is shamefully ridiculous, giving a wrong idea of this excellent movie. My vote is eight.<br /><br />Title (Brazil): \"Os Melhores Dias de Nossas Vidas\" (\"The Best Years of Our Lives\")\n",
            "\n",
            "\n",
            "I viewed this movie for the first time last night and I enjoyed every aspect of it the dancing, the acting, the dialogue, the plot, the script and the whole atmosphere that this movie created. I would highly recommend it.<br /><br />Jennifer Grey gives an absolutely wonderful and first class performance in her role as Frances (Baby) Houseman. She has a natural ability and flair for dancing and she is beautiful and enchanting on the dance floor. But what is wonderful about Baby is that she has such a wonderful depth and dimension to her character. This is not simply a movie about dancing but the scriptwriters have also given us a chance to see Baby deal with the various emotions and feelings that she is experiencing throughout the movie and to allow us an insight into how her interaction with others at the camp changes her life. Grey portrays her character with such realism and poignancy that you end up feeling deeply for Baby as she experiences all she does in this movie.<br /><br />Patrick Swayze is magnificent in his role as Johnny and truly succeeds in making his character come alive. He gives his character a comprehensive personality, strong appeal and great depth. The chemistry between Swayze and Grey is enchanting and powerful and contributes significantly to the great success of this movie <br /><br />Cynthia Rhodes is great in her role of Penny and her portrayal of the ordeal that she experiences is truly powerful and contributes a frightening dimension to the film. The other members of the supporting cast Jerry Orbach and the late Mark Cantor deserve a special mention here-also give wonderful and imaginative performances that gives this movie an additional dimension of high quality acting and believability that is wonderful to experience. The dancing is magnificent and first class on the part of all involved. <br /><br />The script and interaction between all the major characters is intriguing and engages the viewer in a powerful fashion. The plot, although exceedingly predictable, is given more than enough life and vitality to make this movie successful. <br /><br />Furthermore the wonderful selection of music contained in this movie creates a truly magical atmosphere and very nostalgic environment that enhances the quality and success of all the various scenes.<br /><br />`Dirty Dancing' is a truly powerful, magnificent and very appealing movie that leaves you deeply touched and with a wonderful feeling in your heart and soul and an inspiration to dance. I highly recommend it\n",
            "\n",
            "\n",
            "It was a rare treat to see \"Checking Out\". I was touched by the characters, laughed a lot at the wonderful script, and was deeply moved by the genuine emotions magnificently portrayed by this ensemble cast and especially by Peter Falk. In fact, one of his scenes in the kitchen of his apartment with his children where he tells of his experience of his life, his deep love for his wife and his decisions about his life going forward is so profoundly real that it is at the highest level of the best Academy Award-winning performances. He is a consummate actor who out-did himself in this film. The screenwriter offers a combination of literary knowledge, timing, a gift for dialogue and hilarious situations that had me laughing out loud in the theater. I highly recommend \"Checking Out\" to everyone wanting to enjoy quality storytelling superbly acted.\n",
            "\n",
            "\n",
            "Barbara Stanwyck is a sheer delight in this wartime comedy, about a sailor invited to spend Christmas with a popular magazine writer's family, at her farm in Connecticut. The problem is she has no husband, baby, or farm, as she writes about in her column, and she can't even cook; her wonderful recipes being provided for her by her good friend \" Uncle\" Felix, owner of a Hungarian restaurant in New York City.<br /><br />Things get even more complicated when her strict publisher boss invites himself along for Christmas. A scheme is hastily planned, with her stuffy fiancé providing an actual Connecticut farm, neighbors providing a borrowed baby, and a quick wedding planned when the publisher isn't looking. But when the handsome young sailor arrives on Christmas Eve, romantic complications ensue, as the supposedly married author falls like a ton of bricks for the nice guy Navy man and vice versa.<br /><br />This is a charming, warm film that deftly balances humor with sentiment and is a wonderful showcase for Barbara Stanwyck to display her considerable comedic talent, aided by such marvelous character actors as Sydney Greenstreet, Una O'Connor, S.Z.Sakall, and many others. A Christmas night dance at the town hall is a toe tapping delight to see, and the unexpectedly sweet and feminine side of Stanwyck is a wonderful surprise, for viewers who have seen her mainly as tough, bitchy women in femme fatale roles. Truly a wonderful film that has stood the test of time.\n",
            "\n",
            "\n"
          ],
          "name": "stdout"
        }
      ]
    },
    {
      "cell_type": "markdown",
      "metadata": {
        "id": "TzQiHsQIivRq"
      },
      "source": [
        "Топ-15 самых негативных рецензий:"
      ]
    },
    {
      "cell_type": "code",
      "metadata": {
        "id": "eHoCfyKIZ8qj",
        "outputId": "719acea4-8264-4104-aca9-4a8d0574aeaa",
        "colab": {
          "base_uri": "https://localhost:8080/",
          "height": 817
        }
      },
      "source": [
        "for text in top_negative.values:\n",
        "  print(text)\n",
        "  print('\\n')"
      ],
      "execution_count": 57,
      "outputs": [
        {
          "output_type": "stream",
          "text": [
            "This is just the same old crap that is spewed from amateur idiots who have no clue how to make a movie--gee maybe that's why it is a straight-to-video wanna-be movie!<br /><br />I guess it is my fault for actually spending money to see it (one of the worst decisions I have ever made). What a waste. I usually like B movies, some of them are actually quite good--but this is just too ridiculous and stupid to even be funny.<br /><br />The losers that made this junk deserve to be put out of business for wasting everyone's time and money making a movie that obviously doesn't even deserve to be on film! These so-called movie makers have absolutely NO talent!<br /><br />Stupid plot, horrible acting (especially the drag queens--what sicko would actually find that sexy?!), lame writing (if there even was a script--seems like the kinda bull**** someone just made up on the spot)<br /><br />What is stunning about this movie is its utter lack of anything well-done at all.<br /><br />How much attention to detail would it take to insure that every frame of a film would be so far below any reasonable standards? I don't think it would be possible to make such a bad movie intentionally, and it is inconceivable that sheer bad luck could produce such consistently awful results.<br /><br />Anyway, avoid this stink bomb at all costs!!!!!!!!!!!!!!!!\n",
            "\n",
            "\n",
            "As you can tell from the other comments, this movie is just about the WORST film ever made. Let me see how many different words I can use to describe it: Boring, Unbearable, Laughable, Lousy, Stupid, Horrible.....<br /><br />I could go on with such descriptions but you probably get the point.<br /><br />I would have given this a 0, if possible--bad acting, bad directing, bad production, bad plot.<br /><br />This was made in 2001 and it looks more like 1965. Very low budget, boring plot, horrible acting, really bad special effects, etc...<br /><br />I rarely ever see a Sci-Fi film I absolutely think is this bad. I mean this is pure garbage. It has nothing going for it either. As far as a \"B-movie\" this is the very bottom of the lot.<br /><br />I think I would be more entertained by staring at a blank piece of paper for 90 minutes. Junk like this gives good low-budget \"B\" movies a bad name. This makes Ed Wood movies look good.<br /><br />The thing about watching direct-to-video movies is, just when you think you've seen the worst, you see something even worse!<br /><br />DJ Perry is a horrible actor and has no individual characteristics that make him stand out.<br /><br />Avoid this waste at all costs! Oh the humanity!\n",
            "\n",
            "\n",
            "For years I hesitated watching this movie. Now, I know why. Not only is it a comedy that fails at being even remotely funny, but there's also just nothing to laugh *at* about the movie. It was even worse than I'd expected. I rented this sucker and still felt cheated out of time more than money. I have never seen a film that annoyed me that much. It is a movie about stupid people that are doing stupid and terrible things. I don't really know either how someone with common sense could actually act in this kind of movie. I have used IMDb for some time but felt obligated to register just to help prevent poor unsuspecting folks from renting or, worse, buying this stinker!! Really a waste of time and money. I must say that the plot line is awful.\n",
            "\n",
            "\n",
            "Granted, HOTD 2 is better than the Uwe Boll crapfest that was the first one, but thats like saying drowning is better than being chopped alive. OK OK, I'm being a little bit harsh with this one, its just that Video Game adaptations of Zombie movies always leave a bad taste in my mouth. Resident Evil was alright, but its sequels are pure rubbish. The first HOTD was entertaining crap more than anything else; Uwe Boll saw to that. And HOTD 2 was...better? The entertainment value was there, the hot chicks were there, the gore was there, but... this is it? The script, even though subpar, was better than the first one. But in the script dwells horribly written characters, stupid action sequences, clichés, and an ending that drags on and on reaching a level of ridiculousness which would make the Bollmeister very, very proud. But, it could've been worse right?<br /><br />HOTD 2 stars Sig Haig (Yes, Sid Haig) as an insane doctor looking for a cure to death. As you may guess, it all goes to sh*t. A nearby College Campus seems to be the center for the Zombie (or Hypersapien?) epidemic, and as you may expect, a group of Commandos and two Zombie scientists try to save the world by going there and neutralizing the problem. Their main goal? No, it ain't blowing sh*t up. Instead, they have to get a sample of zombie blood, so they can create a cure to the deadly virus. Between this and that lays bland character interactions, an insufferable amount of clichés (but hey, at least the black guy isn't the first one to get killed), and decent looking Zombies. <br /><br />The acting is passable. Who would've thought that Sticky Fingaz was a passable actor? Not me. Emmanuelle Vaugier and Ed Quinn shine somewhat as the leads. And the supporting cast was passable too. It was all passable. <br /><br />The make up effects on the Zombies were alright, it could've been worse like in the first HOTD: just guys running around in dusty mummy suits. The gore was alright too. Cheap scares and even cheaper tension are almost non-existent in this movie, which is a good thing. The action sequences were stupid as f*ck, but at least there wasn't any sword fighting zombies or that ridiculous slow motion bullet effect. <br /><br />Overall, this movie will appeal only to Zombie enthusiasts, fans of the arcade games and for someone who wants to rent a cheap Horror movie for the weekend. Apparently there's going to be a third one as hinted by the ending, but I wouldn't count on it. Unless Uwe decides to do it. A 4.\n",
            "\n",
            "\n",
            "My original comment on this particular title was deleted, by a IMDb user or the staff, only because I just happen to dislike this film to the point I had to sincerely write what I felt after seeing this poor excuse for a film. where's my freedom of word?<br /><br />Obviously this movie was made by students, 'cos so lame and amateurish it felt. Of course even they have to start from somewhere? The script was incoherent mess and so was the acting. With low budget and b- class actors, what can you expect? There's some CGI in places, so poor, it looks like done with an old PC. Some may say, this is sort of an \"Alien\" clone, only this time it's Dracula (in a vintage costume) who's sucking the other cast dry, one by one. The sets are unconvincing, cheap and small (boiler rooms), although the story takes place in a large space craft. <br /><br />It would be fun to know what the stars (Erika Eleniak, Casper Van Dien, Coolio and Udo Kier) thought about the film after it was released... Coolio must be the worst rapper turned actor ever!<br /><br />It was a total waste of my time and money, don't know why I even bothered to rent this flick. Honestly, I just hate this film. With Uwe Boll's House Of The Dead, Dracula 3000 shares the questionable honor of being the worst movie ever. (Well, I've seen even worse than these two)<br /><br />Avoid! Any other film will do better.\n",
            "\n",
            "\n",
            "One night on an independent channel famous for showing off-the-wall films was aired this monstrosity. Though tempted to turn it off, we watched it to the bitter end, hoping to see some semblance of redeeming value. Alas, there was none. Absolutely nothing. The film quality was cheap; the soundtrack was muddy; the editing was ridiculous. Then again, there was precious little to salvage. After a few minutes of Cameron Mitchell's doctor character narrating about some patient of his, the viewer is tortured by no plot, pathetic writing, abysmally terrible acting, and an utter lack of cohesion and continuity. The rotting cherry on top of this fetid mess was the most horrendous \"special effects\" and \"makeup\" to ever disgrace the screen, even for television. The main character stumbles through his role in a dimestore rubber mask and a pair of dishwashing gloves which appear to have been dipped in glue and rolled in beads. Perhaps the poor lighting and gag-worthy film quality were attempting to cover up how bad-to-the-tenth-power the makeup was. One can only hope that at least one deliberate decision was made in the course of this hopelessly amateurish video. Seriously, a handful of three-year-old kids could've produced a better project. At the end, poor Mr. Mitchell returns (how desperate he must've been for money!) and drones out some nonsense that's supposed to connect this pile of crap with the AIDS epidemic. Please spare you and your loved ones the inhuman cruelty of sitting through this. It was so bad, even Mystery Science Theater 3000 couldn't have salvaged it.\n",
            "\n",
            "\n",
            "A movie theater with a bad history of past gruesome murders reopens. Of course, the bloody killings start anew. Written, directed, shot, scored and edited with an appalling lack of flair and finesse by the singularly talentless Rick Sloane (who later disgraced celluloid some more with the absolutely atrocious \"Hobgoblins\"), this horrendously ham-fisted attempt at a slasher spoof strikes out something rotten in every conceivable way: the excruciatingly lethargic pacing, the painfully static, grainy cinematography (there's a stinky surplus of drab master shots featured throughout), an annoyingly droning and redundant hum'n'shiver synthesizer score, the flat (non)direction, a tediously talky and uneventful script, the groan-inducing sophomoric sense of lowbrow humor, the bloodless murder set pieces, a pitifully unscary killer (he's just some wrinkled-up old guy in pasty make-up), the uniformly obnoxious and unappealing characters, a dissatisfyingly abrupt ending, and lifeless performances from a noticeably uninspired cast all ensure that watching this schlocky swill is about as fun and rewarding as eating rancid raw eels drenched with sour vinegar. This crud totally lacks the necessary crude charm and sleazy vigor required to be enjoyable junk. Instead it's just a bland, plodding and meandering stiff that never catches fire or becomes even remotely amusing in a so-shoddy-it's-smoking sort of way. Only a smidgen of nudity and the delightful presence of the always dependable Mary Woronov as a snarky, sardonic secretary provide a little relief from the overall crumminess of this lousy loser.\n",
            "\n",
            "\n",
            "Truly appalling waste of space. Me and my friend tried to watch this film to its conclusion but had to switch it off about 30 minutes from the end. And i can count the films I have switched off before the end on one hand.<br /><br />The script and direction are leaden and deeply uninspiring. I wouldn't be surprised if they found the script in a pile of cast off scripts from 1983. For example the irritating scroat threatening the real estate guy from his house phone. I mean seriously. The police would be beating his door down in minutes. The scenes and events just wash by you like turds in a river. It is difficult to understand the actual thrust of the film. The narrative flicks between characters in a seemingly random manner breaking up the pathetic attempts at building the characters. Oh and what \"characters\" they are. The protagonist played by Rourke is dreadful. He could have just sent a cardboard cut out of himself and stayed in bed. After 60 or so minutes of the film I had built absolutely zero attachment to this character. He is neither sympathetic nor hateful. Just a disfigured dummy from a shop window blundering through every single scene. His motivation is impossible to discern from his generally mumbled and emotionless delivery. Is he happy? Is he sad? Angry? No idea. Just those same dead eyes staring out at you from a disfigured chunk of flesh. And the native American theme is just awful and pointless.<br /><br />The good guys are at best unlikeable. A dull white collar stereotype and a simpering neurotic ex-wife stereotype. Cue archetypal wife with shotgun face off with bad guy, \"you aren't going to shoot me\" that is both tiresomely unoriginal and annoying.<br /><br />The richie nix character seems interesting at first but soon descends into an irritating one sided psycho character. Which seems at odds with the seeming intention of making the bad guys in some way sympathetic or at least realistically motivated.<br /><br />Roasario Dawsons character starts with some promise but soon descends into a sickening and childlike parody of the gangsters chick scenes from Jackie Brown. You really want me to believe her character was SO attracted to Rourke's? Or worse she is just a floozy who sleeps with anything that moves? Realistic female characters FTW! <br /><br />In summary a complete mess of a film. Hopeless characterisations and performances. A leaden and hackneyed script along with uninspired direction. And ultimately extremely dull. Its not even comedy bad either. Laughing at Rourkes haggard face gets pretty old after sitting through the first 15 turgid minutes of the film.\n",
            "\n",
            "\n",
            "Now I've seen it all. Just when I thought it couldn't get any more pathetic and cheesy than \"Woodchipper Massacre,\" just when I thought dialogue and acting couldn't get worse than \"Nail Gun Massacre,\" just when I thought \"Don't Go In The Woods\" would retain its title as Lousiest Slasher Film Ever, along comes \"THE LAST SLUMBER PARTY!\" Somehow, this cheap, wretched manure manages to avoid lewdness, but it remains terrible! I couldn't believe my eyes--for once I can't complain about excessive (or in this case, any) nudity in a slasher film, but it still managed to make me crimson with embarrassment for renting it. Never before have I seen such horrible acting, dialect, direction, writing,....I could go on forever with this list! Here's a quick run-down:<br /><br />A mental patient somehow escapes from the loony bin, dresses up like a surgeon, somehow finds out where his doctor lives, and breaks in while the doctor's daughter is having friends over for the night. Then begins the most stupid killing spree (ripped off from other movies such as \"Slumber Party Massacre\" and Halloween\") this side of the universe. The characters have negative IQs, which suggests they are not human. Then again, I guess they are not, since they have the tendency to bleed Kool-Aid when they get cut, as the slasher likes to show use when he holds up his scapel to the camera in WAY too many scenes. It is only 80 minutes...how many times must we look at that scapel like that before it consumes the whole movie?...which I suppose wouldn't be all that bad of an idea in this case! There is one moment where I thought maybe, just maybe, the director would make it interesting (a second killer was added), but alas! It was not to be! And then to insult even further, there is a stupid super cop-out sub-ending and an even stupider final conclusion. That probably doesn't make a whole lot of sense, but I would hate to give away the dumbest few scenes in movie history to those two or three fools (like me) dumb enough to rent this sewage.<br /><br />I sure hope that, by writing this, I have saved 80 minutes of someone's life. I get on my hands and knees to beg anyone still thinking about renting this: PLEASE, PLEASE, PLEASE DON'T! This is a fan of the slasher genre talking; I know what is good for you! The only real victims in this rattlebrained, asinine nonsense are the poor morons that have sat through the whole toilet tank! Zanatos's score...since there is no negative point scale, I have to give it a 1, but a below-average 1 at that. Avoid it at all costs....please!!!!\n",
            "\n",
            "\n",
            "Predator Island starts as six friends, Eric (Tom Dahl), Chris (Dan Gordon) along with Heather (Iris McQuillan-Grace), Kim (Iana Baker) & Denise (Melissa Roby) get invited to spend sometime on Kevin's (Michael Wrann) father's boat partying in the open sea. What could go wrong with such a super sounding idea? Well for starters a big green meteorite could crash into the sea near your boat & an alien life-force could emerge from it & try to kill all of you, then again that's just a ridiculously stupid idea, isn't it?<br /><br />Co-edited, written & directed by Steven Castle I thought Predator Island was crap & it's a simple & straight forward as that really. The script is of the worst kind, you know the sort of abomination that's full of highly annoying teenage character's who do & say the most stupid things, it's full of clichés & is utterly predictable, it makes next-to-no sense, things just suddenly happen without any build up or explanation, it's boring even at only 70 odd minutes & it has virtually no entertainment value whatsoever, not even unintentional laugh value. The film doesn't really have much of what I would call a plot, there's no explanation given as to why or how this alien creature can take over people's minds or why it can be selective in the sense that one moment the person will be 'normal' the next, when the story calls for it & with no apparent cause, they suddenly get green glowing eyes & a sudden urge to turn cannibal. There's not enough horror in it, the so-called action scenes are pitiful & I really don't want to waste another second thinking about Predator Island let alone wasting my precious energy typing these words...<br /><br />Director Castle doesn't do anything to make this thing watchable & the 'special effects' are absolutely terrible, this alien creature dude wouldn't even get into a 50's sci-fi film. The filmmakers even play some blooper footage over the end credits but this has to be the least funny collection of mistakes ever, I mean they can't even get it wrong right if you know what I mean! Forget about any decent gore as there isn't any, there's a bit of cannibalism & some intestines placed on the unfortunate actors stomach so another unfortunate actor can pick them up & pretend to eat them.<br /><br />With a supposed budget of about $150,000 I have to concede that the filmmakers were working on a seriously low budget, that's still no excuse for making such a poor film. The whole thing looks very cheap & the acting is pretty bad.<br /><br />Predator Island is crap, I'm sorry but that's the way it is & I just fail to see what anyone would get out of it. In my humble opinion this probably one to avoid.\n",
            "\n",
            "\n",
            "Oh, where the hell should I begin? Give a brief summary of the story? No. either you've already heard it, or don't want to. Either way, it sucks. Much like the movie. I happen to be a semi-large horror movie aficionado, and I must say this is one of the dumbest and most clumsily-executed movies I've ever had the displeasure of viewing. <br /><br />The script is horrendously stupid. The story starts too fast with absolutely no suspense or build-up in the slightest. All of those torture scenes would have been A LOT more effective if we gave even the tiniest bit of crap for the characters. Since the first scene in the film is when the teenage girls meet Capt. Howdy, how the hell are we supposed to sympathize with them? First off, they seem stupid for going to a party with a guy they don't even know, and second, we don't even know their damn names! Why the hell should I care if they live or die? Not to mention the fact that they actually have the guts to try and make us feel sympathetic towards Capt. Howdy after he's been \"reformed\"? PLEASE! I was cheering when he got his just deserts! He deserved them! Hell, he deserved worse! Also, we're forced to sit through a pointless misdirect sequence lifted directly from \"The Silence of the Lambs\" (and here it's done HORRIBLY! Of course he's gonna give them a false address! And even if he had given them the real one, don't you think he'd be waiting and not piercing some guy's Johnson upstairs? RETARDED!)<br /><br />Then there's the dialogue. Everything Captain Howdy says is either laughable or just plain stupid. \"The dead are so dreadfully dead, when they're dead\"?? What the hell kind of crap is that?! Dee Snider at one point says \"knowledge is power\". Well, if that's true, this film has absolutely no power whatsoever. <br /><br />Then, there's the plot holes. Yes, I know this is a horror film (well, wannabe horror film), but damn! You could drive a semi truck into these holes! First off, these have got to be the DUMBEST cops I have EVER SEEN! EVER!! I mean, DEAR GOD, these guys are morons! Call for backup, idiots! Second, how the hell did that humungous septum ring fall out of Captain Howdy's nose?! Evidentially this piercing expert guy says \"that's the biggest one I've ever seen\", but if it's so damn big, how the hell could it have fallen out so easily? Did Capt. Howdy just LEAVE it at the crime scene because he WANTED to get caught? They sure didn't make it seem like he did. Also, they would NEVER release Capt. Howdy, and I know that for a damn fact. He would be in jail for the rest of his life, and there's no getting around this. Much less let him return to his old house where he killed/tortured everybody. IMPOSSIBLE AND IMPLAUSIBLE. <br /><br />And now the acting. Dear God did these people suck. Linda Cardellini is the only thing good in this film. She's poised and amazing. Too bad she hardly gets a good chance to act in this piece of crap. Amy Smart shows up for about 10 minutes and then drops out of existence. Even the usually entertaining Robert Englund is underused and ineffective here. Dee Snider plays the crazy guy with no talent whatsoever. I never felt threatened, scared or intimidated. I'd rather have seen Dee Snider in Alexis Arquette's role in \"Bride of Chucky\". It would have been so much more fun to see this talent-less hack get it by that lovable psycho doll. <br /><br />Dee Snider just plain sucks. He can't act (one of the least scary villains I have ever seen), he can't write (did he write this damn movie in his sleep?), and he's obviously dumber than freaking Jessica Simpson! This film is just a way for Dee Snider to show off all the weird crap he knows about self-mutilation and modern primitives and blah-blah-blah. Either it's been done before or it just didn't need to be done. I was bored throughout the whole damn thing. <br /><br />The acting sucks, the music sucks, the script sucks, the pacing sucks, the special FX suck, the directing sucks... basically, this movie sucks. This film tries to be a serious and sophisticated thriller/horror flick and it fails miserably. It doesn't manage to scare, shock, or disturb in any shape, way or form. This is probably one of the least effective and utterly unoriginal films I have ever seen in my entire life. A piece of cinematic garbage captured on celluloid. <br /><br />\"Strangeland\" gets a 0 out of 10. Avoid at any and all costs. Not enjoyable in the slightest.\n",
            "\n",
            "\n",
            "I usually spend almost as much time writing my reviews as I do watching the film, but with Today You Die, I feel that doing so would be a criminal waste of my time.<br /><br />So here is a five minute rant about how bad this film is.<br /><br />There was a time in the mid-80s when a single look from Steven Seagal was enough to crack your ribs; a full on scowl could knock you off your feet. If he actually got a hold of you, he would snap you like a twig.<br /><br />These days, although he is still capable of doing considerable damage, he no longer looks the part. He's gone to seed and just doesn't know when to call it quits. He walks like he's dumped in his pants yet somehow still manages to look constipated, and he has put on weight. His trademark long ponytail has gone, but his hair still looks stupid. How this man keeps on working in the movie industry is beyond me.<br /><br />Today you Die is the usual Seagal mix of bone crunching fights, car crashes, gun battles and pyrotechnics. Seagal mumbles his way through the dull script, delivering his lines with zero enthusiasm or believability. In this third-rate action flick, he plays Harlan Banks a thief trying to go straight, who is conned into partaking in a $20,000,000 robbery. He gets caught, goes to jail, escapes, and seeks revenge. Yawn.<br /><br />There are some pretty good car chases and gun fights which intersperse the boring stuff (of which there is a lot), but reading other comments on IMDb has revealed that these were actually borrowed from other better movies. Seagal is also body-doubled an awful lot in this one.<br /><br />Seagal turns in one of the most dreadful performances of his careerand that's saying something, considering the lousy 'acting' in some of his recent efforts. Most hilarious is his totally embarrassing attempt at Ebonics (African American street slang). 'I da man, fo' sho'no, actually Steven, you sound like an arse! With a ridiculous script and plot lines that go nowhere, this film is a waste of time, money and effort. And the final moment, where Harlan Banks saves a Children's home from closure is enough to make you blow chunks.<br /><br />Damn, I just looked at the clock. I was enjoying trashing this steaming pile of dreck so much, I went way over my five minutes. It's time to post this comment and get to watching something decent.\n",
            "\n",
            "\n",
            "This movie is a complete and utter waste of time, one of the worst films I've ever seen. And coming from me, that is definitely saying something. In fact, I wish I could have given it negative stars instead of just rating it as a pathetic one-star awful.<br /><br />When I rented this movie, I had an open mind. I find the legend of the chupacabra interesting and I have a fondness for cheesy horror flicks. But I draw the line at this one.<br /><br />The acting sucked. The lead male gives one of the worst performances ever, looking and sounding unnatural as he delivers his poorly written lines. The lead female gives a slightly more palatable performance, but that really doesn't take much.<br /><br />The chupacabra... well, considering how low budget this movie must have been, the creature was tolerable. It does, however, look exactly like someone in a mask and body suit. The mask is fairly detailed and might look cool in person, but not so on screen.<br /><br />Speaking of on screen, you'd think they could have at least used a better camera. It looks like it was shot with a camcorder for crying out loud. Not a very good one, either.<br /><br />I don't know what whoever wrote this abomination was thinking. The dialog sucks and just... I can't describe what I feel about it. At least not without getting in trouble with the site.<br /><br />My advice? Avoid this at all costs. It's just not worth it. If it comes on TV and you have nothing else to do or watch, then *find* something else to do or watch. Read a book, listen to music, *anything.* Just don't subject yourself to this. If you do, you cannot say you weren't warned. And for Lord and Lady's sake, don't rent this sucker. It is not worth it, even if you get the chance to rent it for fifty cents. Trust me, I know.\n",
            "\n",
            "\n",
            "I went into this movie hoping for an imaginative twist on the Second Coming. Boy, was I ever wrong. BBC are dullards at pacing a movie, total idiots at creating suspense, fools at building intensity. And this movie is no exception to the rule of how much BBC sucks.<br /><br />Ugh, the pacing and time-wasting laborious dialogue was just painful to sit through. The first 30 minutes felt like 2 hours. I kept looking down at my watch wondering when the pointless, monotonous drivel would end. They wasted a perfectly good actor in the lead role, because the material is so lazy, and sloppily, written. Everything that happens is just to kill time.<br /><br />Out of 155 minutes, only 15 minutes are interesting (the controversial ending). What a shame. Reading the plot summary is more interesting than watching the movie. The preaching, the \"am I God\" endless blah blah blah-ing, the dumb as doornails boring miracles... UGH.<br /><br />DO NOT WATCH THIS CRAP.\n",
            "\n",
            "\n",
            "What a terrible movie this was! I made it about 50 minutes into it and started skipping chapters until the end. The plot is nothing special, and the dialog from the movie deviates from the main story so much that your head will explode out of rage. Many useless minutes wasted just listening to characters jabber on about something irrelevant to the plot, AND/OR something that could said in a shorter amount of time. The camera work is shaky, and grainy. It seemed Mr. Milligan needed to take his finger off of the zoom button! I noticed also that at some points during this movie it seemed that Andy was having seizures, and would uncontrollably shake the camera. The splices between scenes were jumpy and didn't flow. The murder scenes were nothing special - incredibly, and laughably fake. Barely any gore, as the title suggests. This movie runs about 1 hour 20 minutes and the murder scenes take up about 1 minute TOTAL of the whole movie - if that. What a wretched piece of garbage this movie was. Andy Milligan is in fact probably one of the worst directors to plague mankind with his talentless directing, and camera-work. Usually, I can make it through really bad horror movies, and laugh about it later. BLOODTHIRSTY BUTCHERS, however, I can't. I am just angry I wasted an hour and a half of my life watching this (what I wouldn't do to gain it back). Take my suggestion, and DO NOT see this movie unless you plan on falling asleep. TERRIBLE.\n",
            "\n",
            "\n"
          ],
          "name": "stdout"
        }
      ]
    },
    {
      "cell_type": "markdown",
      "metadata": {
        "id": "hA4WBCfEiyJB"
      },
      "source": [
        "Действительно, распечатанные текста подходят под соответствующий топ и очень эмоционально ярки!"
      ]
    },
    {
      "cell_type": "markdown",
      "metadata": {
        "id": "ZFsMHo7jajgY"
      },
      "source": [
        "# Ручной подсчет метрик"
      ]
    },
    {
      "cell_type": "markdown",
      "metadata": {
        "id": "97JBK7Fzi9xK"
      },
      "source": [
        "Напишем отдельно функцию, считающую tp, tn, fp, fn, и будем использовать ее внутри функций для подсчета основных метрик"
      ]
    },
    {
      "cell_type": "code",
      "metadata": {
        "id": "Hwo81GPjasqx"
      },
      "source": [
        "def values_for_metrics(y_true, y_pred):\n",
        "  tp = y_pred[(y_true==y_pred)&(y_pred==1)].shape[0]\n",
        "  tn = y_pred[(y_true==y_pred)&(y_pred==0)].shape[0]\n",
        "  fp = y_pred[(y_true!=y_pred)&(y_pred==1)].shape[0]\n",
        "  fn = y_pred[(y_true!=y_pred)&(y_pred==0)].shape[0]\n",
        "  return tp,tn,fp,fn\n",
        "\n",
        "def accuracy(y_true, y_pred):\n",
        "  tp,tn,fp,fn = values_for_metrics(y_true, y_pred)\n",
        "  return (tp+tn)/(tp+tn+fp+fn)\n",
        "\n",
        "def precision(y_true, y_pred):\n",
        "  tp,tn,fp,fn = values_for_metrics(y_true, y_pred)\n",
        "  return tp/(tp+fp)\n",
        "\n",
        "def recall(y_true, y_pred):\n",
        "  tp,tn,fp,fn = values_for_metrics(y_true, y_pred)\n",
        "  return tp/(tp+fn)\n",
        "\n",
        "def f1(y_true, y_pred):\n",
        "  pr = precision(y_true, y_pred)\n",
        "  rec = recall(y_true, y_pred)\n",
        "  return 2*pr*rec/(pr+rec)"
      ],
      "execution_count": 89,
      "outputs": []
    },
    {
      "cell_type": "markdown",
      "metadata": {
        "id": "e4zTHWdojICi"
      },
      "source": [
        "Проверим, совпадают ли значения для классификатора на лемматизированных данных:"
      ]
    },
    {
      "cell_type": "code",
      "metadata": {
        "id": "6_gwp4glcwa1",
        "outputId": "01fb1473-e442-4e4e-a596-ccb3cf7d9f64",
        "colab": {
          "base_uri": "https://localhost:8080/",
          "height": 86
        }
      },
      "source": [
        "from sklearn.metrics import accuracy_score, precision_score, recall_score, f1_score\n",
        "\n",
        "print(accuracy_score(test_labels, predicted_lemmatized) == accuracy(test_labels, predicted_lemmatized))\n",
        "print(precision_score(test_labels, predicted_lemmatized) == precision(test_labels, predicted_lemmatized))\n",
        "print(recall_score(test_labels, predicted_lemmatized) == recall(test_labels, predicted_lemmatized))\n",
        "print(f1_score(test_labels, predicted_lemmatized) == f1(test_labels, predicted_lemmatized))"
      ],
      "execution_count": 90,
      "outputs": [
        {
          "output_type": "stream",
          "text": [
            "True\n",
            "True\n",
            "True\n",
            "True\n"
          ],
          "name": "stdout"
        }
      ]
    },
    {
      "cell_type": "markdown",
      "metadata": {
        "id": "J68g0u-LjL2j"
      },
      "source": [
        "Все совпало!\n",
        "\n",
        "А теперь, на всякий случай, для второго классификатора:"
      ]
    },
    {
      "cell_type": "code",
      "metadata": {
        "id": "ExPilTqWbMpe",
        "outputId": "1fe80103-dd68-444b-ad79-f93de3d0414e",
        "colab": {
          "base_uri": "https://localhost:8080/",
          "height": 86
        }
      },
      "source": [
        "print(accuracy_score(test_labels, predicted_preprocessed) == accuracy(test_labels, predicted_preprocessed))\n",
        "print(precision_score(test_labels, predicted_preprocessed) == precision(test_labels, predicted_preprocessed))\n",
        "print(recall_score(test_labels, predicted_preprocessed) == recall(test_labels, predicted_preprocessed))\n",
        "print(f1_score(test_labels, predicted_preprocessed) == f1(test_labels, predicted_preprocessed))"
      ],
      "execution_count": 92,
      "outputs": [
        {
          "output_type": "stream",
          "text": [
            "True\n",
            "True\n",
            "True\n",
            "True\n"
          ],
          "name": "stdout"
        }
      ]
    },
    {
      "cell_type": "markdown",
      "metadata": {
        "id": "8GxaAYIqjQ4i"
      },
      "source": [
        "И тут тоже значения получились те же, что и посчитанные в sklearn."
      ]
    }
  ]
}